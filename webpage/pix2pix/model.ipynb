{
 "cells": [
  {
   "cell_type": "code",
   "execution_count": 14,
   "id": "a3459123",
   "metadata": {},
   "outputs": [
    {
     "data": {
      "text/plain": [
       "True"
      ]
     },
     "execution_count": 14,
     "metadata": {},
     "output_type": "execute_result"
    }
   ],
   "source": [
    "import torch\n",
    "import torch.nn as nn\n",
    "import torchvision.transforms as transforms\n",
    "import numpy as np\n",
    "import matplotlib.pyplot as plt\n",
    "import os\n",
    "import torchvision.datasets as dset\n",
    "from data import image_manipulation\n",
    "from data import dataloader as img_dataloader\n",
    "from torch.autograd import Variable\n",
    "from tqdm import tqdm\n",
    "from PIL import Image\n",
    "from torch.utils.data import DataLoader\n",
    "\n",
    "torch.cuda.is_available()"
   ]
  },
  {
   "cell_type": "code",
   "execution_count": 15,
   "id": "349798f1",
   "metadata": {},
   "outputs": [],
   "source": [
    "# random seed for reproducibility\n",
    "random_seed = 69\n",
    "\n",
    "np.random.seed(random_seed)"
   ]
  },
  {
   "cell_type": "code",
   "execution_count": 16,
   "id": "57607a7d",
   "metadata": {},
   "outputs": [],
   "source": [
    "# no of workers for dataloader\n",
    "no_of_workers = 4\n",
    "\n",
    "# root of the data\n",
    "data_root = \"data/train/\"\n",
    "\n",
    "# batch size\n",
    "batch_size = 1\n",
    "\n",
    "#no of epochs\n",
    "n_epochs = 10\n",
    "\n",
    "# learning rate\n",
    "lr = 0.0002\n",
    "\n",
    "# betas for adam\n",
    "beta_1 = 0.5\n",
    "beta_2 = 0.999\n",
    "\n",
    "# image size\n",
    "image_height = 256\n",
    "image_width = 256"
   ]
  },
  {
   "cell_type": "code",
   "execution_count": 17,
   "id": "ee454ca5",
   "metadata": {},
   "outputs": [],
   "source": [
    "# We can use an image folder dataset the way we have it setup.\n",
    "# Create the dataset\n",
    "dataset = dset.ImageFolder(root=data_root,\n",
    "                           transform=transforms.Compose([\n",
    "                               transforms.ToTensor(),\n",
    "                           ]))\n",
    "# Create the dataloader\n",
    "dataloader = torch.utils.data.DataLoader(dataset, batch_size=batch_size, shuffle=True,\n",
    "                                         num_workers = no_of_workers)"
   ]
  },
  {
   "cell_type": "code",
   "execution_count": 18,
   "id": "2dde0879",
   "metadata": {},
   "outputs": [],
   "source": [
    "def weights_init_normal(m):\n",
    "    classname = m.__class__.__name__\n",
    "    if classname.find(\"Conv\") != -1:\n",
    "        torch.nn.init.normal_(m.weight.data, 0.0, 0.02)\n",
    "    elif classname.find(\"BatchNorm2d\") != -1:\n",
    "        torch.nn.init.normal_(m.weight.data, 1.0, 0.02)\n",
    "        torch.nn.init.constant_(m.bias.data, 0.0)"
   ]
  },
  {
   "cell_type": "code",
   "execution_count": 19,
   "id": "1916734e",
   "metadata": {},
   "outputs": [],
   "source": [
    "class UNetDown(nn.Module):\n",
    "    def __init__(self, in_size, out_size, normalize = True, dropout = 0.0):\n",
    "        super(UNetDown, self).__init__()\n",
    "        layers = [\n",
    "            nn.Conv2d(in_size, out_size, 4, 2, 1, bias = False)\n",
    "        ]\n",
    "        if normalize:\n",
    "            layers.append(nn.InstanceNorm2d(out_size))\n",
    "            \n",
    "        layers.append(nn.LeakyReLU(0.2))\n",
    "        \n",
    "        if dropout:\n",
    "            layers.append(nn.Dropout(dropout))\n",
    "            \n",
    "        self.model = nn.Sequential(*layers)\n",
    "        \n",
    "    def forward(self, x):\n",
    "        return self.model(x)"
   ]
  },
  {
   "cell_type": "code",
   "execution_count": 20,
   "id": "d680b0cb",
   "metadata": {},
   "outputs": [],
   "source": [
    "class UNetUp(nn.Module):\n",
    "    def __init__(self, in_size, out_size, dropout = 0.0):\n",
    "        super(UNetUp, self).__init__()\n",
    "\n",
    "        layers = [\n",
    "            nn.ConvTranspose2d(in_size, out_size, 4, 2, 1, bias=False),\n",
    "            nn.InstanceNorm2d(out_size),\n",
    "            nn.ReLU(inplace=True),\n",
    "        ]\n",
    "        if dropout:\n",
    "            layers.append(nn.Dropout(dropout))\n",
    "\n",
    "        self.model = nn.Sequential(*layers)\n",
    "        \n",
    "    \n",
    "    def forward(self, x, skip_input):\n",
    "        x = self.model(x)\n",
    "        x = torch.cat((x, skip_input), 1)\n",
    "\n",
    "        return x"
   ]
  },
  {
   "cell_type": "code",
   "execution_count": 8,
   "id": "a2ffefec",
   "metadata": {},
   "outputs": [],
   "source": [
    "class GeneratorUNet(nn.Module):\n",
    "    def __init__(self, in_channels=3, out_channels=3):\n",
    "        super(GeneratorUNet, self).__init__()\n",
    "        \n",
    "        self.down1 = UNetDown(in_channels, 64, normalize=False)\n",
    "        self.down2 = UNetDown(64, 128)\n",
    "        self.down3 = UNetDown(128, 256)\n",
    "        self.down4 = UNetDown(256, 512, dropout=0.5)\n",
    "        self.down5 = UNetDown(512, 512, dropout=0.5)\n",
    "        self.down6 = UNetDown(512, 512, dropout=0.5)\n",
    "        self.down7 = UNetDown(512, 512, dropout=0.5)\n",
    "        self.down8 = UNetDown(512, 512, normalize=False, dropout=0.5)\n",
    "\n",
    "        self.up1 = UNetUp(512, 512, dropout=0.5)\n",
    "        self.up2 = UNetUp(1024, 512, dropout=0.5)\n",
    "        self.up3 = UNetUp(1024, 512, dropout=0.5)\n",
    "        self.up4 = UNetUp(1024, 512, dropout=0.5)\n",
    "        self.up5 = UNetUp(1024, 256)\n",
    "        self.up6 = UNetUp(512, 128)\n",
    "        self.up7 = UNetUp(256, 64)\n",
    "\n",
    "        self.final = nn.Sequential(\n",
    "            nn.Upsample(scale_factor=2),\n",
    "            nn.ZeroPad2d((1, 0, 1, 0)),\n",
    "            nn.Conv2d(128, out_channels, 4, padding=1),\n",
    "            nn.Tanh(),\n",
    "        )\n",
    "\n",
    "    def forward(self, x):\n",
    "        # U-Net generator with skip connections from encoder to decoder\n",
    "        d1 = self.down1(x)\n",
    "        d2 = self.down2(d1)\n",
    "        d3 = self.down3(d2)\n",
    "        d4 = self.down4(d3)\n",
    "        d5 = self.down5(d4)\n",
    "        d6 = self.down6(d5)\n",
    "        d7 = self.down7(d6)\n",
    "        d8 = self.down8(d7)\n",
    "        \n",
    "        # unet connections\n",
    "        u1 = self.up1(d8, d7)\n",
    "        u2 = self.up2(u1, d6)\n",
    "        u3 = self.up3(u2, d5)\n",
    "        u4 = self.up4(u3, d4)\n",
    "        u5 = self.up5(u4, d3)\n",
    "        u6 = self.up6(u5, d2)\n",
    "        u7 = self.up7(u6, d1)\n",
    "\n",
    "        return self.final(u7)"
   ]
  },
  {
   "cell_type": "code",
   "execution_count": 9,
   "id": "0fde2f0c",
   "metadata": {},
   "outputs": [],
   "source": [
    "class Discriminator(nn.Module):\n",
    "    def __init__(self, in_channels=3):\n",
    "        super(Discriminator, self).__init__()\n",
    "\n",
    "        def discriminator_block(in_filters, out_filters, normalization=True):\n",
    "            \"\"\"Returns downsampling layers of each discriminator block\"\"\"\n",
    "            layers = [nn.Conv2d(in_filters, out_filters, 4, stride=2, padding=1)]\n",
    "            if normalization:\n",
    "                layers.append(nn.InstanceNorm2d(out_filters))\n",
    "            layers.append(nn.LeakyReLU(0.2, inplace=True))\n",
    "            return layers\n",
    "\n",
    "        self.model = nn.Sequential(\n",
    "            *discriminator_block(in_channels * 2, 64, normalization=False),\n",
    "            *discriminator_block(64, 128),\n",
    "            *discriminator_block(128, 256),\n",
    "            *discriminator_block(256, 512),\n",
    "            nn.ZeroPad2d((1, 0, 1, 0)),\n",
    "            nn.Conv2d(512, 1, 4, padding=1, bias=False),\n",
    "            nn.Sigmoid()\n",
    "        )\n",
    "\n",
    "    def forward(self, img_A, img_B):\n",
    "        # Concatenate image and condition image by channels to produce input\n",
    "        img_input = torch.cat((img_A, img_B), 1)\n",
    "        return self.model(img_input)"
   ]
  },
  {
   "cell_type": "markdown",
   "id": "26d8ee04",
   "metadata": {},
   "source": [
    "## Model Train"
   ]
  },
  {
   "cell_type": "code",
   "execution_count": 21,
   "id": "887a03ce",
   "metadata": {},
   "outputs": [
    {
     "name": "stdout",
     "output_type": "stream",
     "text": [
      "True\n",
      "Generator Found\n",
      "Discriminator Found\n"
     ]
    }
   ],
   "source": [
    "#initialize model classes\n",
    "generator = GeneratorUNet()\n",
    "discriminator = Discriminator()\n",
    "\n",
    "\n",
    "# check if cuda is avialbale\n",
    "cuda = True if torch.cuda.is_available() else False\n",
    "device = 'cuda' if torch.cuda.is_available() else 'cpu'\n",
    "print(cuda)\n",
    "\n",
    "# initialize weights if the model is not found in the paths\n",
    "if os.path.exists(\"saved_models/generator.pth\"):\n",
    "    print(\"Generator Found\")\n",
    "    generator.load_state_dict(torch.load(\"saved_models/generator.pth\", map_location = device))\n",
    "else:\n",
    "    generator.apply(weights_init_normal)\n",
    "                                         \n",
    "if os.path.exists(\"saved_models/discriminator.pth\"):\n",
    "    print(\"Discriminator Found\")\n",
    "    discriminator.load_state_dict(torch.load(\"saved_models/discriminator.pth\", map_location = device))\n",
    "else:\n",
    "    discriminator.apply(weights_init_normal)\n",
    "\n",
    "# model loss functions\n",
    "loss_fn_generator = torch.nn.MSELoss() # mean squared loss\n",
    "loss_fn_disc = torch.nn.L1Loss() #pixel wise loss\n",
    "\n",
    "# to cuda if cuda is avaiable\n",
    "generator.to(device)\n",
    "discriminator.to(device)\n",
    "loss_fn_disc.to(device)\n",
    "loss_fn_generator.to(device)\n",
    "    \n",
    "# optimizers\n",
    "optimier_G = torch.optim.Adam(generator.parameters(), betas=(beta_1, beta_2), lr=lr)\n",
    "optimier_D = torch.optim.Adam(discriminator.parameters(), betas=(beta_1, beta_2), lr=lr)\n",
    "\n",
    "# Loss weight of L1 pixel-wise loss between translated image and real image\n",
    "lambda_pixel = 100\n",
    "\n",
    "# Calculate output of image discriminator (PatchGAN)\n",
    "patch = (1, image_height // 2 ** 4, image_width // 2 ** 4)\n",
    "\n",
    "# Tensor type\n",
    "Tensor = torch.cuda.FloatTensor if cuda else torch.FloatTensor"
   ]
  },
  {
   "cell_type": "code",
   "execution_count": 22,
   "id": "6626e746",
   "metadata": {},
   "outputs": [],
   "source": [
    "transform = transforms.Compose([\n",
    "    transforms.ToTensor(), # transform to tensor\n",
    "    transforms.Resize((image_width, image_height)) # Resize the image to constant size\n",
    "])\n",
    "\n",
    "# create a dataloader\n",
    "pair_image_dataloader = img_dataloader.ImageDataset(\"./data/train/old_images\", \"./data/train/reconstructed_images\", transform)\n",
    "\n",
    "dataloader = DataLoader(\n",
    "    pair_image_dataloader,\n",
    "    batch_size = 10,\n",
    "    shuffle = True\n",
    ")\n",
    "\n",
    "torch.cuda.empty_cache()"
   ]
  },
  {
   "cell_type": "code",
   "execution_count": null,
   "id": "57f79395",
   "metadata": {
    "scrolled": false
   },
   "outputs": [
    {
     "name": "stderr",
     "output_type": "stream",
     "text": [
      "1it [00:00,  1.26it/s]"
     ]
    },
    {
     "name": "stdout",
     "output_type": "stream",
     "text": [
      "Generator Error: 3.881650447845459, epoch: 0, itr: 0\n",
      "Discriminator Error: 3.614795787143521e-05, epoch: 0, itr: 0\n"
     ]
    },
    {
     "name": "stderr",
     "output_type": "stream",
     "text": [
      "\r",
      "2it [00:01,  1.68it/s]"
     ]
    },
    {
     "name": "stdout",
     "output_type": "stream",
     "text": [
      "Generator Error: 3.6925461292266846, epoch: 0, itr: 1\n",
      "Discriminator Error: 0.00021852740610484034, epoch: 0, itr: 1\n"
     ]
    },
    {
     "name": "stderr",
     "output_type": "stream",
     "text": [
      "\r",
      "3it [00:01,  1.88it/s]"
     ]
    },
    {
     "name": "stdout",
     "output_type": "stream",
     "text": [
      "Generator Error: 4.091390609741211, epoch: 0, itr: 2\n",
      "Discriminator Error: 2.8102742362534627e-05, epoch: 0, itr: 2\n"
     ]
    },
    {
     "name": "stderr",
     "output_type": "stream",
     "text": [
      "\r",
      "4it [00:02,  1.98it/s]"
     ]
    },
    {
     "name": "stdout",
     "output_type": "stream",
     "text": [
      "Generator Error: 3.2444841861724854, epoch: 0, itr: 3\n",
      "Discriminator Error: 0.00017743298667483032, epoch: 0, itr: 3\n"
     ]
    },
    {
     "name": "stderr",
     "output_type": "stream",
     "text": [
      "\r",
      "5it [00:02,  2.04it/s]"
     ]
    },
    {
     "name": "stdout",
     "output_type": "stream",
     "text": [
      "Generator Error: 3.5574920177459717, epoch: 0, itr: 4\n",
      "Discriminator Error: 1.3440539987641387e-05, epoch: 0, itr: 4\n"
     ]
    },
    {
     "name": "stderr",
     "output_type": "stream",
     "text": [
      "\r",
      "6it [00:03,  2.08it/s]"
     ]
    },
    {
     "name": "stdout",
     "output_type": "stream",
     "text": [
      "Generator Error: 3.4340829849243164, epoch: 0, itr: 5\n",
      "Discriminator Error: 4.769437509821728e-05, epoch: 0, itr: 5\n"
     ]
    },
    {
     "name": "stderr",
     "output_type": "stream",
     "text": [
      "\r",
      "7it [00:03,  2.11it/s]"
     ]
    },
    {
     "name": "stdout",
     "output_type": "stream",
     "text": [
      "Generator Error: 3.276756763458252, epoch: 0, itr: 6\n",
      "Discriminator Error: 0.0005376425688154995, epoch: 0, itr: 6\n"
     ]
    },
    {
     "name": "stderr",
     "output_type": "stream",
     "text": [
      "\r",
      "8it [00:04,  2.12it/s]"
     ]
    },
    {
     "name": "stdout",
     "output_type": "stream",
     "text": [
      "Generator Error: 3.194305896759033, epoch: 0, itr: 7\n",
      "Discriminator Error: 6.176729948492721e-05, epoch: 0, itr: 7\n"
     ]
    },
    {
     "name": "stderr",
     "output_type": "stream",
     "text": [
      "\r",
      "9it [00:04,  2.12it/s]"
     ]
    },
    {
     "name": "stdout",
     "output_type": "stream",
     "text": [
      "Generator Error: 4.036940097808838, epoch: 0, itr: 8\n",
      "Discriminator Error: 0.0001377252337988466, epoch: 0, itr: 8\n"
     ]
    },
    {
     "name": "stderr",
     "output_type": "stream",
     "text": [
      "\r",
      "10it [00:04,  2.11it/s]"
     ]
    },
    {
     "name": "stdout",
     "output_type": "stream",
     "text": [
      "Generator Error: 3.4791064262390137, epoch: 0, itr: 9\n",
      "Discriminator Error: 0.001974687213078141, epoch: 0, itr: 9\n"
     ]
    },
    {
     "name": "stderr",
     "output_type": "stream",
     "text": [
      "\r",
      "11it [00:05,  2.11it/s]"
     ]
    },
    {
     "name": "stdout",
     "output_type": "stream",
     "text": [
      "Generator Error: 3.407857656478882, epoch: 0, itr: 10\n",
      "Discriminator Error: 6.66827181703411e-05, epoch: 0, itr: 10\n"
     ]
    },
    {
     "name": "stderr",
     "output_type": "stream",
     "text": [
      "\r",
      "12it [00:05,  2.12it/s]"
     ]
    },
    {
     "name": "stdout",
     "output_type": "stream",
     "text": [
      "Generator Error: 3.224374771118164, epoch: 0, itr: 11\n",
      "Discriminator Error: 5.910848267376423e-05, epoch: 0, itr: 11\n"
     ]
    },
    {
     "name": "stderr",
     "output_type": "stream",
     "text": [
      "\r",
      "13it [00:06,  2.12it/s]"
     ]
    },
    {
     "name": "stdout",
     "output_type": "stream",
     "text": [
      "Generator Error: 3.4464335441589355, epoch: 0, itr: 12\n",
      "Discriminator Error: 1.9052280549658462e-05, epoch: 0, itr: 12\n"
     ]
    },
    {
     "name": "stderr",
     "output_type": "stream",
     "text": [
      "\r",
      "14it [00:06,  2.14it/s]"
     ]
    },
    {
     "name": "stdout",
     "output_type": "stream",
     "text": [
      "Generator Error: 3.699249267578125, epoch: 0, itr: 13\n",
      "Discriminator Error: 6.166060484247282e-05, epoch: 0, itr: 13\n"
     ]
    },
    {
     "name": "stderr",
     "output_type": "stream",
     "text": [
      "\r",
      "15it [00:07,  2.14it/s]"
     ]
    },
    {
     "name": "stdout",
     "output_type": "stream",
     "text": [
      "Generator Error: 3.579132318496704, epoch: 0, itr: 14\n",
      "Discriminator Error: 5.5524295021314174e-05, epoch: 0, itr: 14\n"
     ]
    },
    {
     "name": "stderr",
     "output_type": "stream",
     "text": [
      "\r",
      "16it [00:07,  2.16it/s]"
     ]
    },
    {
     "name": "stdout",
     "output_type": "stream",
     "text": [
      "Generator Error: 3.5163540840148926, epoch: 0, itr: 15\n",
      "Discriminator Error: 0.0001225851447088644, epoch: 0, itr: 15\n"
     ]
    },
    {
     "name": "stderr",
     "output_type": "stream",
     "text": [
      "\r",
      "17it [00:08,  2.16it/s]"
     ]
    },
    {
     "name": "stdout",
     "output_type": "stream",
     "text": [
      "Generator Error: 3.2384183406829834, epoch: 0, itr: 16\n",
      "Discriminator Error: 0.00019486231030896306, epoch: 0, itr: 16\n"
     ]
    },
    {
     "name": "stderr",
     "output_type": "stream",
     "text": [
      "\r",
      "18it [00:08,  2.16it/s]"
     ]
    },
    {
     "name": "stdout",
     "output_type": "stream",
     "text": [
      "Generator Error: 3.1382129192352295, epoch: 0, itr: 17\n",
      "Discriminator Error: 0.00035993181518279016, epoch: 0, itr: 17\n"
     ]
    },
    {
     "name": "stderr",
     "output_type": "stream",
     "text": [
      "\r",
      "19it [00:09,  2.16it/s]"
     ]
    },
    {
     "name": "stdout",
     "output_type": "stream",
     "text": [
      "Generator Error: 3.205991268157959, epoch: 0, itr: 18\n",
      "Discriminator Error: 6.103984924266115e-05, epoch: 0, itr: 18\n"
     ]
    },
    {
     "name": "stderr",
     "output_type": "stream",
     "text": [
      "\r",
      "20it [00:09,  2.16it/s]"
     ]
    },
    {
     "name": "stdout",
     "output_type": "stream",
     "text": [
      "Generator Error: 3.6184842586517334, epoch: 0, itr: 19\n",
      "Discriminator Error: 1.3638195014209487e-05, epoch: 0, itr: 19\n"
     ]
    },
    {
     "name": "stderr",
     "output_type": "stream",
     "text": [
      "\r",
      "21it [00:10,  2.16it/s]"
     ]
    },
    {
     "name": "stdout",
     "output_type": "stream",
     "text": [
      "Generator Error: 4.472681045532227, epoch: 0, itr: 20\n",
      "Discriminator Error: 1.7999591364059597e-05, epoch: 0, itr: 20\n"
     ]
    },
    {
     "name": "stderr",
     "output_type": "stream",
     "text": [
      "\r",
      "22it [00:10,  2.16it/s]"
     ]
    },
    {
     "name": "stdout",
     "output_type": "stream",
     "text": [
      "Generator Error: 3.6260886192321777, epoch: 0, itr: 21\n",
      "Discriminator Error: 6.433646194636822e-05, epoch: 0, itr: 21\n"
     ]
    },
    {
     "name": "stderr",
     "output_type": "stream",
     "text": [
      "\r",
      "23it [00:11,  2.15it/s]"
     ]
    },
    {
     "name": "stdout",
     "output_type": "stream",
     "text": [
      "Generator Error: 3.810338020324707, epoch: 0, itr: 22\n",
      "Discriminator Error: 0.00012300249363761395, epoch: 0, itr: 22\n"
     ]
    },
    {
     "name": "stderr",
     "output_type": "stream",
     "text": [
      "\r",
      "24it [00:11,  2.15it/s]"
     ]
    },
    {
     "name": "stdout",
     "output_type": "stream",
     "text": [
      "Generator Error: 3.224471092224121, epoch: 0, itr: 23\n",
      "Discriminator Error: 3.0750852602068335e-06, epoch: 0, itr: 23\n"
     ]
    },
    {
     "name": "stderr",
     "output_type": "stream",
     "text": [
      "\r",
      "25it [00:11,  2.16it/s]"
     ]
    },
    {
     "name": "stdout",
     "output_type": "stream",
     "text": [
      "Generator Error: 3.0968737602233887, epoch: 0, itr: 24\n",
      "Discriminator Error: 7.022164936643094e-05, epoch: 0, itr: 24\n"
     ]
    },
    {
     "name": "stderr",
     "output_type": "stream",
     "text": [
      "\r",
      "26it [00:12,  2.17it/s]"
     ]
    },
    {
     "name": "stdout",
     "output_type": "stream",
     "text": [
      "Generator Error: 3.8936946392059326, epoch: 0, itr: 25\n",
      "Discriminator Error: 8.608776624896564e-06, epoch: 0, itr: 25\n"
     ]
    },
    {
     "name": "stderr",
     "output_type": "stream",
     "text": [
      "\r",
      "27it [00:12,  2.15it/s]"
     ]
    },
    {
     "name": "stdout",
     "output_type": "stream",
     "text": [
      "Generator Error: 4.05046272277832, epoch: 0, itr: 26\n",
      "Discriminator Error: 4.394014467834495e-05, epoch: 0, itr: 26\n"
     ]
    },
    {
     "name": "stderr",
     "output_type": "stream",
     "text": [
      "\r",
      "28it [00:13,  2.15it/s]"
     ]
    },
    {
     "name": "stdout",
     "output_type": "stream",
     "text": [
      "Generator Error: 3.8063018321990967, epoch: 0, itr: 27\n",
      "Discriminator Error: 1.2744652849505655e-05, epoch: 0, itr: 27\n"
     ]
    },
    {
     "name": "stderr",
     "output_type": "stream",
     "text": [
      "\r",
      "29it [00:13,  2.16it/s]"
     ]
    },
    {
     "name": "stdout",
     "output_type": "stream",
     "text": [
      "Generator Error: 3.509019136428833, epoch: 0, itr: 28\n",
      "Discriminator Error: 4.219638412905624e-06, epoch: 0, itr: 28\n"
     ]
    },
    {
     "name": "stderr",
     "output_type": "stream",
     "text": [
      "\r",
      "30it [00:14,  2.16it/s]"
     ]
    },
    {
     "name": "stdout",
     "output_type": "stream",
     "text": [
      "Generator Error: 3.1406474113464355, epoch: 0, itr: 29\n",
      "Discriminator Error: 4.294275277061388e-05, epoch: 0, itr: 29\n"
     ]
    },
    {
     "name": "stderr",
     "output_type": "stream",
     "text": [
      "\r",
      "31it [00:14,  2.14it/s]"
     ]
    },
    {
     "name": "stdout",
     "output_type": "stream",
     "text": [
      "Generator Error: 3.3530666828155518, epoch: 0, itr: 30\n",
      "Discriminator Error: 0.00012754727504216135, epoch: 0, itr: 30\n"
     ]
    },
    {
     "name": "stderr",
     "output_type": "stream",
     "text": [
      "\r",
      "32it [00:15,  2.13it/s]"
     ]
    },
    {
     "name": "stdout",
     "output_type": "stream",
     "text": [
      "Generator Error: 3.583062171936035, epoch: 0, itr: 31\n",
      "Discriminator Error: 4.801708200830035e-05, epoch: 0, itr: 31\n"
     ]
    },
    {
     "name": "stderr",
     "output_type": "stream",
     "text": [
      "\r",
      "33it [00:15,  2.14it/s]"
     ]
    },
    {
     "name": "stdout",
     "output_type": "stream",
     "text": [
      "Generator Error: 3.3510842323303223, epoch: 0, itr: 32\n",
      "Discriminator Error: 1.0232695785816759e-05, epoch: 0, itr: 32\n"
     ]
    },
    {
     "name": "stderr",
     "output_type": "stream",
     "text": [
      "\r",
      "34it [00:16,  2.15it/s]"
     ]
    },
    {
     "name": "stdout",
     "output_type": "stream",
     "text": [
      "Generator Error: 3.545707941055298, epoch: 0, itr: 33\n",
      "Discriminator Error: 2.8890386602142826e-05, epoch: 0, itr: 33\n"
     ]
    },
    {
     "name": "stderr",
     "output_type": "stream",
     "text": [
      "\r",
      "35it [00:16,  2.15it/s]"
     ]
    },
    {
     "name": "stdout",
     "output_type": "stream",
     "text": [
      "Generator Error: 3.8256661891937256, epoch: 0, itr: 34\n",
      "Discriminator Error: 3.4727527236100286e-05, epoch: 0, itr: 34\n"
     ]
    },
    {
     "name": "stderr",
     "output_type": "stream",
     "text": [
      "\r",
      "36it [00:17,  2.15it/s]"
     ]
    },
    {
     "name": "stdout",
     "output_type": "stream",
     "text": [
      "Generator Error: 3.8372244834899902, epoch: 0, itr: 35\n",
      "Discriminator Error: 1.2587845958478283e-05, epoch: 0, itr: 35\n"
     ]
    },
    {
     "name": "stderr",
     "output_type": "stream",
     "text": [
      "\r",
      "37it [00:17,  2.14it/s]"
     ]
    },
    {
     "name": "stdout",
     "output_type": "stream",
     "text": [
      "Generator Error: 4.070149898529053, epoch: 0, itr: 36\n",
      "Discriminator Error: 1.8431521311867982e-05, epoch: 0, itr: 36\n"
     ]
    },
    {
     "name": "stderr",
     "output_type": "stream",
     "text": [
      "\r",
      "38it [00:17,  2.13it/s]"
     ]
    },
    {
     "name": "stdout",
     "output_type": "stream",
     "text": [
      "Generator Error: 3.851571559906006, epoch: 0, itr: 37\n",
      "Discriminator Error: 3.439981082919985e-05, epoch: 0, itr: 37\n"
     ]
    },
    {
     "name": "stderr",
     "output_type": "stream",
     "text": [
      "\r",
      "39it [00:18,  2.16it/s]"
     ]
    },
    {
     "name": "stdout",
     "output_type": "stream",
     "text": [
      "Generator Error: 3.6264607906341553, epoch: 0, itr: 38\n",
      "Discriminator Error: 1.4112437384028453e-05, epoch: 0, itr: 38\n"
     ]
    },
    {
     "name": "stderr",
     "output_type": "stream",
     "text": [
      "\r",
      "40it [00:18,  2.14it/s]"
     ]
    },
    {
     "name": "stdout",
     "output_type": "stream",
     "text": [
      "Generator Error: 3.299950122833252, epoch: 0, itr: 39\n",
      "Discriminator Error: 2.2764488676330075e-05, epoch: 0, itr: 39\n"
     ]
    },
    {
     "name": "stderr",
     "output_type": "stream",
     "text": [
      "\r",
      "41it [00:19,  2.15it/s]"
     ]
    },
    {
     "name": "stdout",
     "output_type": "stream",
     "text": [
      "Generator Error: 3.031505823135376, epoch: 0, itr: 40\n",
      "Discriminator Error: 1.1833100870717317e-05, epoch: 0, itr: 40\n"
     ]
    },
    {
     "name": "stderr",
     "output_type": "stream",
     "text": [
      "\r",
      "42it [00:19,  2.13it/s]"
     ]
    },
    {
     "name": "stdout",
     "output_type": "stream",
     "text": [
      "Generator Error: 3.4060463905334473, epoch: 0, itr: 41\n",
      "Discriminator Error: 9.230708201357629e-06, epoch: 0, itr: 41\n"
     ]
    },
    {
     "name": "stderr",
     "output_type": "stream",
     "text": [
      "\r",
      "43it [00:20,  2.14it/s]"
     ]
    },
    {
     "name": "stdout",
     "output_type": "stream",
     "text": [
      "Generator Error: 3.7290403842926025, epoch: 0, itr: 42\n",
      "Discriminator Error: 8.205352060031146e-05, epoch: 0, itr: 42\n"
     ]
    },
    {
     "name": "stderr",
     "output_type": "stream",
     "text": [
      "\r",
      "44it [00:20,  2.16it/s]"
     ]
    },
    {
     "name": "stdout",
     "output_type": "stream",
     "text": [
      "Generator Error: 3.5793662071228027, epoch: 0, itr: 43\n",
      "Discriminator Error: 2.6976143999490887e-05, epoch: 0, itr: 43\n"
     ]
    },
    {
     "name": "stderr",
     "output_type": "stream",
     "text": [
      "\r",
      "45it [00:21,  2.14it/s]"
     ]
    },
    {
     "name": "stdout",
     "output_type": "stream",
     "text": [
      "Generator Error: 3.383790969848633, epoch: 0, itr: 44\n",
      "Discriminator Error: 3.7232832255540416e-05, epoch: 0, itr: 44\n"
     ]
    },
    {
     "name": "stderr",
     "output_type": "stream",
     "text": [
      "\r",
      "46it [00:21,  2.12it/s]"
     ]
    },
    {
     "name": "stdout",
     "output_type": "stream",
     "text": [
      "Generator Error: 4.096891403198242, epoch: 0, itr: 45\n",
      "Discriminator Error: 1.258423799299635e-05, epoch: 0, itr: 45\n"
     ]
    },
    {
     "name": "stderr",
     "output_type": "stream",
     "text": [
      "\r",
      "47it [00:22,  2.14it/s]"
     ]
    },
    {
     "name": "stdout",
     "output_type": "stream",
     "text": [
      "Generator Error: 3.813018798828125, epoch: 0, itr: 46\n",
      "Discriminator Error: 1.5185285519692115e-05, epoch: 0, itr: 46\n"
     ]
    },
    {
     "name": "stderr",
     "output_type": "stream",
     "text": [
      "\r",
      "48it [00:22,  2.14it/s]"
     ]
    },
    {
     "name": "stdout",
     "output_type": "stream",
     "text": [
      "Generator Error: 3.36580491065979, epoch: 0, itr: 47\n",
      "Discriminator Error: 0.00023501041869167238, epoch: 0, itr: 47\n"
     ]
    },
    {
     "name": "stderr",
     "output_type": "stream",
     "text": [
      "\r",
      "49it [00:23,  2.15it/s]"
     ]
    },
    {
     "name": "stdout",
     "output_type": "stream",
     "text": [
      "Generator Error: 3.3466436862945557, epoch: 0, itr: 48\n",
      "Discriminator Error: 1.0018145985668525e-05, epoch: 0, itr: 48\n"
     ]
    },
    {
     "name": "stderr",
     "output_type": "stream",
     "text": [
      "\r",
      "50it [00:23,  2.13it/s]"
     ]
    },
    {
     "name": "stdout",
     "output_type": "stream",
     "text": [
      "Generator Error: 3.472342014312744, epoch: 0, itr: 49\n",
      "Discriminator Error: 3.139444379485212e-05, epoch: 0, itr: 49\n"
     ]
    },
    {
     "name": "stderr",
     "output_type": "stream",
     "text": [
      "\r",
      "51it [00:24,  2.12it/s]"
     ]
    },
    {
     "name": "stdout",
     "output_type": "stream",
     "text": [
      "Generator Error: 3.991708993911743, epoch: 0, itr: 50\n",
      "Discriminator Error: 7.87259250500938e-06, epoch: 0, itr: 50\n"
     ]
    },
    {
     "name": "stderr",
     "output_type": "stream",
     "text": [
      "\r",
      "52it [00:24,  2.13it/s]"
     ]
    },
    {
     "name": "stdout",
     "output_type": "stream",
     "text": [
      "Generator Error: 3.6648550033569336, epoch: 0, itr: 51\n",
      "Discriminator Error: 4.080151848029345e-05, epoch: 0, itr: 51\n"
     ]
    },
    {
     "name": "stderr",
     "output_type": "stream",
     "text": [
      "\r",
      "53it [00:25,  2.11it/s]"
     ]
    },
    {
     "name": "stdout",
     "output_type": "stream",
     "text": [
      "Generator Error: 4.043248176574707, epoch: 0, itr: 52\n",
      "Discriminator Error: 0.00040563661605119705, epoch: 0, itr: 52\n"
     ]
    },
    {
     "name": "stderr",
     "output_type": "stream",
     "text": [
      "\r",
      "54it [00:25,  2.11it/s]"
     ]
    },
    {
     "name": "stdout",
     "output_type": "stream",
     "text": [
      "Generator Error: 3.641439914703369, epoch: 0, itr: 53\n",
      "Discriminator Error: 9.09441769181285e-06, epoch: 0, itr: 53\n"
     ]
    },
    {
     "name": "stderr",
     "output_type": "stream",
     "text": [
      "\r",
      "55it [00:25,  2.13it/s]"
     ]
    },
    {
     "name": "stdout",
     "output_type": "stream",
     "text": [
      "Generator Error: 3.2064788341522217, epoch: 0, itr: 54\n",
      "Discriminator Error: 0.0004234306397847831, epoch: 0, itr: 54\n"
     ]
    },
    {
     "name": "stderr",
     "output_type": "stream",
     "text": [
      "\r",
      "56it [00:26,  2.14it/s]"
     ]
    },
    {
     "name": "stdout",
     "output_type": "stream",
     "text": [
      "Generator Error: 3.1273813247680664, epoch: 0, itr: 55\n",
      "Discriminator Error: 6.914574896654813e-06, epoch: 0, itr: 55\n"
     ]
    },
    {
     "name": "stderr",
     "output_type": "stream",
     "text": [
      "\r",
      "57it [00:26,  2.14it/s]"
     ]
    },
    {
     "name": "stdout",
     "output_type": "stream",
     "text": [
      "Generator Error: 4.002664089202881, epoch: 0, itr: 56\n",
      "Discriminator Error: 1.8041864677798003e-05, epoch: 0, itr: 56\n"
     ]
    },
    {
     "name": "stderr",
     "output_type": "stream",
     "text": [
      "\r",
      "58it [00:27,  2.13it/s]"
     ]
    },
    {
     "name": "stdout",
     "output_type": "stream",
     "text": [
      "Generator Error: 3.5070271492004395, epoch: 0, itr: 57\n",
      "Discriminator Error: 4.4174357753945515e-06, epoch: 0, itr: 57\n"
     ]
    },
    {
     "name": "stderr",
     "output_type": "stream",
     "text": [
      "\r",
      "59it [00:27,  2.12it/s]"
     ]
    },
    {
     "name": "stdout",
     "output_type": "stream",
     "text": [
      "Generator Error: 3.9517788887023926, epoch: 0, itr: 58\n",
      "Discriminator Error: 4.683904080593493e-06, epoch: 0, itr: 58\n"
     ]
    },
    {
     "name": "stderr",
     "output_type": "stream",
     "text": [
      "\r",
      "60it [00:28,  2.12it/s]"
     ]
    },
    {
     "name": "stdout",
     "output_type": "stream",
     "text": [
      "Generator Error: 3.0032432079315186, epoch: 0, itr: 59\n",
      "Discriminator Error: 0.0002896418736781925, epoch: 0, itr: 59\n"
     ]
    },
    {
     "name": "stderr",
     "output_type": "stream",
     "text": [
      "\r",
      "61it [00:28,  2.13it/s]"
     ]
    },
    {
     "name": "stdout",
     "output_type": "stream",
     "text": [
      "Generator Error: 3.2140848636627197, epoch: 0, itr: 60\n",
      "Discriminator Error: 4.7657638788223267e-05, epoch: 0, itr: 60\n"
     ]
    },
    {
     "name": "stderr",
     "output_type": "stream",
     "text": [
      "\r",
      "62it [00:29,  2.13it/s]"
     ]
    },
    {
     "name": "stdout",
     "output_type": "stream",
     "text": [
      "Generator Error: 4.246454238891602, epoch: 0, itr: 61\n",
      "Discriminator Error: 6.582769128726795e-05, epoch: 0, itr: 61\n"
     ]
    },
    {
     "name": "stderr",
     "output_type": "stream",
     "text": [
      "\r",
      "63it [00:29,  2.12it/s]"
     ]
    },
    {
     "name": "stdout",
     "output_type": "stream",
     "text": [
      "Generator Error: 3.6960256099700928, epoch: 0, itr: 62\n",
      "Discriminator Error: 2.6479090593056753e-05, epoch: 0, itr: 62\n"
     ]
    },
    {
     "name": "stderr",
     "output_type": "stream",
     "text": [
      "\r",
      "64it [00:30,  2.14it/s]"
     ]
    },
    {
     "name": "stdout",
     "output_type": "stream",
     "text": [
      "Generator Error: 3.806220054626465, epoch: 0, itr: 63\n",
      "Discriminator Error: 4.085632554051699e-06, epoch: 0, itr: 63\n"
     ]
    },
    {
     "name": "stderr",
     "output_type": "stream",
     "text": [
      "\r",
      "65it [00:30,  2.14it/s]"
     ]
    },
    {
     "name": "stdout",
     "output_type": "stream",
     "text": [
      "Generator Error: 3.2430918216705322, epoch: 0, itr: 64\n",
      "Discriminator Error: 1.024590619636001e-05, epoch: 0, itr: 64\n"
     ]
    },
    {
     "name": "stderr",
     "output_type": "stream",
     "text": [
      "\r",
      "66it [00:31,  2.12it/s]"
     ]
    },
    {
     "name": "stdout",
     "output_type": "stream",
     "text": [
      "Generator Error: 3.9819538593292236, epoch: 0, itr: 65\n",
      "Discriminator Error: 7.562600512756035e-05, epoch: 0, itr: 65\n"
     ]
    },
    {
     "name": "stderr",
     "output_type": "stream",
     "text": [
      "\r",
      "67it [00:31,  2.11it/s]"
     ]
    },
    {
     "name": "stdout",
     "output_type": "stream",
     "text": [
      "Generator Error: 2.910505771636963, epoch: 0, itr: 66\n",
      "Discriminator Error: 4.796963548869826e-05, epoch: 0, itr: 66\n"
     ]
    },
    {
     "name": "stderr",
     "output_type": "stream",
     "text": [
      "\r",
      "68it [00:32,  2.12it/s]"
     ]
    },
    {
     "name": "stdout",
     "output_type": "stream",
     "text": [
      "Generator Error: 3.4237022399902344, epoch: 0, itr: 67\n",
      "Discriminator Error: 1.212182905874215e-05, epoch: 0, itr: 67\n"
     ]
    },
    {
     "name": "stderr",
     "output_type": "stream",
     "text": [
      "\r",
      "69it [00:32,  2.13it/s]"
     ]
    },
    {
     "name": "stdout",
     "output_type": "stream",
     "text": [
      "Generator Error: 3.1257529258728027, epoch: 0, itr: 68\n",
      "Discriminator Error: 5.774784222012386e-05, epoch: 0, itr: 68\n"
     ]
    },
    {
     "name": "stderr",
     "output_type": "stream",
     "text": [
      "\r",
      "70it [00:33,  2.14it/s]"
     ]
    },
    {
     "name": "stdout",
     "output_type": "stream",
     "text": [
      "Generator Error: 2.985689163208008, epoch: 0, itr: 69\n",
      "Discriminator Error: 1.3424640201264992e-05, epoch: 0, itr: 69\n"
     ]
    },
    {
     "name": "stderr",
     "output_type": "stream",
     "text": [
      "\r",
      "71it [00:33,  2.12it/s]"
     ]
    },
    {
     "name": "stdout",
     "output_type": "stream",
     "text": [
      "Generator Error: 3.650725841522217, epoch: 0, itr: 70\n",
      "Discriminator Error: 3.6518918932415545e-05, epoch: 0, itr: 70\n"
     ]
    },
    {
     "name": "stderr",
     "output_type": "stream",
     "text": [
      "\r",
      "72it [00:33,  2.09it/s]"
     ]
    },
    {
     "name": "stdout",
     "output_type": "stream",
     "text": [
      "Generator Error: 4.060842990875244, epoch: 0, itr: 71\n",
      "Discriminator Error: 2.0120528461120557e-06, epoch: 0, itr: 71\n"
     ]
    },
    {
     "name": "stderr",
     "output_type": "stream",
     "text": [
      "\r",
      "73it [00:34,  2.10it/s]"
     ]
    },
    {
     "name": "stdout",
     "output_type": "stream",
     "text": [
      "Generator Error: 3.826472282409668, epoch: 0, itr: 72\n",
      "Discriminator Error: 3.506906750772032e-06, epoch: 0, itr: 72\n"
     ]
    },
    {
     "name": "stderr",
     "output_type": "stream",
     "text": [
      "\r",
      "74it [00:34,  2.08it/s]"
     ]
    },
    {
     "name": "stdout",
     "output_type": "stream",
     "text": [
      "Generator Error: 3.5974130630493164, epoch: 0, itr: 73\n",
      "Discriminator Error: 0.0018442857544869184, epoch: 0, itr: 73\n"
     ]
    },
    {
     "name": "stderr",
     "output_type": "stream",
     "text": [
      "\r",
      "75it [00:35,  2.10it/s]"
     ]
    },
    {
     "name": "stdout",
     "output_type": "stream",
     "text": [
      "Generator Error: 4.057671070098877, epoch: 0, itr: 74\n",
      "Discriminator Error: 0.0006929144146852195, epoch: 0, itr: 74\n"
     ]
    },
    {
     "name": "stderr",
     "output_type": "stream",
     "text": [
      "\r",
      "76it [00:35,  2.12it/s]"
     ]
    },
    {
     "name": "stdout",
     "output_type": "stream",
     "text": [
      "Generator Error: 2.8921444416046143, epoch: 0, itr: 75\n",
      "Discriminator Error: 0.00012381865235511214, epoch: 0, itr: 75\n"
     ]
    },
    {
     "name": "stderr",
     "output_type": "stream",
     "text": [
      "\r",
      "77it [00:36,  2.09it/s]"
     ]
    },
    {
     "name": "stdout",
     "output_type": "stream",
     "text": [
      "Generator Error: 4.128842830657959, epoch: 0, itr: 76\n",
      "Discriminator Error: 7.696876855334267e-05, epoch: 0, itr: 76\n"
     ]
    },
    {
     "name": "stderr",
     "output_type": "stream",
     "text": [
      "\r",
      "78it [00:36,  2.10it/s]"
     ]
    },
    {
     "name": "stdout",
     "output_type": "stream",
     "text": [
      "Generator Error: 3.1802330017089844, epoch: 0, itr: 77\n",
      "Discriminator Error: 9.015049727167934e-06, epoch: 0, itr: 77\n"
     ]
    },
    {
     "name": "stderr",
     "output_type": "stream",
     "text": [
      "\r",
      "79it [00:37,  2.09it/s]"
     ]
    },
    {
     "name": "stdout",
     "output_type": "stream",
     "text": [
      "Generator Error: 3.3430678844451904, epoch: 0, itr: 78\n",
      "Discriminator Error: 0.012515479698777199, epoch: 0, itr: 78\n"
     ]
    },
    {
     "name": "stderr",
     "output_type": "stream",
     "text": [
      "\r",
      "80it [00:37,  2.10it/s]"
     ]
    },
    {
     "name": "stdout",
     "output_type": "stream",
     "text": [
      "Generator Error: 3.6752877235412598, epoch: 0, itr: 79\n",
      "Discriminator Error: 0.02891196310520172, epoch: 0, itr: 79\n"
     ]
    },
    {
     "name": "stderr",
     "output_type": "stream",
     "text": [
      "\r",
      "81it [00:38,  2.10it/s]"
     ]
    },
    {
     "name": "stdout",
     "output_type": "stream",
     "text": [
      "Generator Error: 3.645759344100952, epoch: 0, itr: 80\n",
      "Discriminator Error: 0.0002185706835007295, epoch: 0, itr: 80\n"
     ]
    },
    {
     "name": "stderr",
     "output_type": "stream",
     "text": [
      "\r",
      "82it [00:38,  2.10it/s]"
     ]
    },
    {
     "name": "stdout",
     "output_type": "stream",
     "text": [
      "Generator Error: 3.779452085494995, epoch: 0, itr: 81\n",
      "Discriminator Error: 0.0009384488803334534, epoch: 0, itr: 81\n"
     ]
    },
    {
     "name": "stderr",
     "output_type": "stream",
     "text": [
      "\r",
      "83it [00:39,  2.09it/s]"
     ]
    },
    {
     "name": "stdout",
     "output_type": "stream",
     "text": [
      "Generator Error: 3.2355191707611084, epoch: 0, itr: 82\n",
      "Discriminator Error: 0.012608589604496956, epoch: 0, itr: 82\n"
     ]
    },
    {
     "name": "stderr",
     "output_type": "stream",
     "text": [
      "\r",
      "84it [00:39,  2.11it/s]"
     ]
    },
    {
     "name": "stdout",
     "output_type": "stream",
     "text": [
      "Generator Error: 3.465719223022461, epoch: 0, itr: 83\n",
      "Discriminator Error: 6.251196464290842e-05, epoch: 0, itr: 83\n"
     ]
    },
    {
     "name": "stderr",
     "output_type": "stream",
     "text": [
      "\r",
      "85it [00:40,  2.10it/s]"
     ]
    },
    {
     "name": "stdout",
     "output_type": "stream",
     "text": [
      "Generator Error: 3.814781427383423, epoch: 0, itr: 84\n",
      "Discriminator Error: 0.00020572208450175822, epoch: 0, itr: 84\n"
     ]
    },
    {
     "name": "stderr",
     "output_type": "stream",
     "text": [
      "\r",
      "86it [00:40,  2.10it/s]"
     ]
    },
    {
     "name": "stdout",
     "output_type": "stream",
     "text": [
      "Generator Error: 3.6495118141174316, epoch: 0, itr: 85\n",
      "Discriminator Error: 2.503119503671769e-05, epoch: 0, itr: 85\n"
     ]
    },
    {
     "name": "stderr",
     "output_type": "stream",
     "text": [
      "\r",
      "87it [00:41,  2.07it/s]"
     ]
    },
    {
     "name": "stdout",
     "output_type": "stream",
     "text": [
      "Generator Error: 3.727898597717285, epoch: 0, itr: 86\n",
      "Discriminator Error: 2.7344583941157907e-05, epoch: 0, itr: 86\n"
     ]
    },
    {
     "name": "stderr",
     "output_type": "stream",
     "text": [
      "\r",
      "88it [00:41,  2.08it/s]"
     ]
    },
    {
     "name": "stdout",
     "output_type": "stream",
     "text": [
      "Generator Error: 3.736149311065674, epoch: 0, itr: 87\n",
      "Discriminator Error: 7.873235153965652e-05, epoch: 0, itr: 87\n"
     ]
    },
    {
     "name": "stderr",
     "output_type": "stream",
     "text": [
      "\r",
      "89it [00:42,  2.09it/s]"
     ]
    },
    {
     "name": "stdout",
     "output_type": "stream",
     "text": [
      "Generator Error: 3.4786956310272217, epoch: 0, itr: 88\n",
      "Discriminator Error: 0.00037036431604065, epoch: 0, itr: 88\n"
     ]
    },
    {
     "name": "stderr",
     "output_type": "stream",
     "text": [
      "\r",
      "90it [00:42,  2.10it/s]"
     ]
    },
    {
     "name": "stdout",
     "output_type": "stream",
     "text": [
      "Generator Error: 3.457380533218384, epoch: 0, itr: 89\n",
      "Discriminator Error: 0.00011591993825277314, epoch: 0, itr: 89\n"
     ]
    },
    {
     "name": "stderr",
     "output_type": "stream",
     "text": [
      "\r",
      "91it [00:43,  2.11it/s]"
     ]
    },
    {
     "name": "stdout",
     "output_type": "stream",
     "text": [
      "Generator Error: 3.726942777633667, epoch: 0, itr: 90\n",
      "Discriminator Error: 2.9134112992323935e-05, epoch: 0, itr: 90\n"
     ]
    },
    {
     "name": "stderr",
     "output_type": "stream",
     "text": [
      "\r",
      "92it [00:43,  2.12it/s]"
     ]
    },
    {
     "name": "stdout",
     "output_type": "stream",
     "text": [
      "Generator Error: 3.7268123626708984, epoch: 0, itr: 91\n",
      "Discriminator Error: 7.742630259599537e-05, epoch: 0, itr: 91\n"
     ]
    },
    {
     "name": "stderr",
     "output_type": "stream",
     "text": [
      "\r",
      "93it [00:43,  2.13it/s]"
     ]
    },
    {
     "name": "stdout",
     "output_type": "stream",
     "text": [
      "Generator Error: 3.712132453918457, epoch: 0, itr: 92\n",
      "Discriminator Error: 8.510227780789137e-05, epoch: 0, itr: 92\n"
     ]
    },
    {
     "name": "stderr",
     "output_type": "stream",
     "text": [
      "\r",
      "94it [00:44,  2.13it/s]"
     ]
    },
    {
     "name": "stdout",
     "output_type": "stream",
     "text": [
      "Generator Error: 3.344247341156006, epoch: 0, itr: 93\n",
      "Discriminator Error: 0.00018522910249885172, epoch: 0, itr: 93\n"
     ]
    },
    {
     "name": "stderr",
     "output_type": "stream",
     "text": [
      "\r",
      "95it [00:44,  2.14it/s]"
     ]
    },
    {
     "name": "stdout",
     "output_type": "stream",
     "text": [
      "Generator Error: 3.031038761138916, epoch: 0, itr: 94\n",
      "Discriminator Error: 0.0004297674458939582, epoch: 0, itr: 94\n"
     ]
    },
    {
     "name": "stderr",
     "output_type": "stream",
     "text": [
      "\r",
      "96it [00:45,  2.13it/s]"
     ]
    },
    {
     "name": "stdout",
     "output_type": "stream",
     "text": [
      "Generator Error: 3.305368661880493, epoch: 0, itr: 95\n",
      "Discriminator Error: 1.636588785913773e-05, epoch: 0, itr: 95\n"
     ]
    },
    {
     "name": "stderr",
     "output_type": "stream",
     "text": [
      "\r",
      "97it [00:45,  2.13it/s]"
     ]
    },
    {
     "name": "stdout",
     "output_type": "stream",
     "text": [
      "Generator Error: 4.359295845031738, epoch: 0, itr: 96\n",
      "Discriminator Error: 1.898877599160187e-05, epoch: 0, itr: 96\n"
     ]
    },
    {
     "name": "stderr",
     "output_type": "stream",
     "text": [
      "\r",
      "98it [00:46,  2.14it/s]"
     ]
    },
    {
     "name": "stdout",
     "output_type": "stream",
     "text": [
      "Generator Error: 3.3698689937591553, epoch: 0, itr: 97\n",
      "Discriminator Error: 5.050157415098511e-05, epoch: 0, itr: 97\n"
     ]
    },
    {
     "name": "stderr",
     "output_type": "stream",
     "text": [
      "\r",
      "99it [00:46,  2.14it/s]"
     ]
    },
    {
     "name": "stdout",
     "output_type": "stream",
     "text": [
      "Generator Error: 3.1366467475891113, epoch: 0, itr: 98\n",
      "Discriminator Error: 7.844666106393561e-05, epoch: 0, itr: 98\n"
     ]
    },
    {
     "name": "stderr",
     "output_type": "stream",
     "text": [
      "100it [00:47,  2.12it/s]\n",
      "0it [00:00, ?it/s]"
     ]
    },
    {
     "name": "stdout",
     "output_type": "stream",
     "text": [
      "Generator Error: 3.60831880569458, epoch: 0, itr: 99\n",
      "Discriminator Error: 3.100934191024862e-05, epoch: 0, itr: 99\n"
     ]
    },
    {
     "name": "stderr",
     "output_type": "stream",
     "text": [
      "\r",
      "1it [00:00,  2.13it/s]"
     ]
    },
    {
     "name": "stdout",
     "output_type": "stream",
     "text": [
      "Generator Error: 3.722834587097168, epoch: 1, itr: 0\n",
      "Discriminator Error: 0.00021896962425671518, epoch: 1, itr: 0\n"
     ]
    },
    {
     "name": "stderr",
     "output_type": "stream",
     "text": [
      "\r",
      "2it [00:00,  2.14it/s]"
     ]
    },
    {
     "name": "stdout",
     "output_type": "stream",
     "text": [
      "Generator Error: 3.964775562286377, epoch: 1, itr: 1\n",
      "Discriminator Error: 0.00024647152167744935, epoch: 1, itr: 1\n"
     ]
    },
    {
     "name": "stderr",
     "output_type": "stream",
     "text": [
      "\r",
      "3it [00:01,  2.13it/s]"
     ]
    },
    {
     "name": "stdout",
     "output_type": "stream",
     "text": [
      "Generator Error: 2.869419813156128, epoch: 1, itr: 2\n",
      "Discriminator Error: 0.00023634510580450296, epoch: 1, itr: 2\n"
     ]
    },
    {
     "name": "stderr",
     "output_type": "stream",
     "text": [
      "\r",
      "4it [00:01,  2.13it/s]"
     ]
    },
    {
     "name": "stdout",
     "output_type": "stream",
     "text": [
      "Generator Error: 3.2567861080169678, epoch: 1, itr: 3\n",
      "Discriminator Error: 0.00011103969882242382, epoch: 1, itr: 3\n"
     ]
    },
    {
     "name": "stderr",
     "output_type": "stream",
     "text": [
      "\r",
      "5it [00:02,  2.13it/s]"
     ]
    },
    {
     "name": "stdout",
     "output_type": "stream",
     "text": [
      "Generator Error: 3.5075886249542236, epoch: 1, itr: 4\n",
      "Discriminator Error: 4.6484459744533524e-05, epoch: 1, itr: 4\n"
     ]
    },
    {
     "name": "stderr",
     "output_type": "stream",
     "text": [
      "\r",
      "6it [00:02,  2.14it/s]"
     ]
    },
    {
     "name": "stdout",
     "output_type": "stream",
     "text": [
      "Generator Error: 3.6533408164978027, epoch: 1, itr: 5\n",
      "Discriminator Error: 8.091458585113287e-05, epoch: 1, itr: 5\n"
     ]
    },
    {
     "name": "stderr",
     "output_type": "stream",
     "text": [
      "\r",
      "7it [00:03,  2.12it/s]"
     ]
    },
    {
     "name": "stdout",
     "output_type": "stream",
     "text": [
      "Generator Error: 3.298687219619751, epoch: 1, itr: 6\n",
      "Discriminator Error: 8.621966117061675e-05, epoch: 1, itr: 6\n"
     ]
    },
    {
     "name": "stderr",
     "output_type": "stream",
     "text": [
      "\r",
      "8it [00:03,  2.10it/s]"
     ]
    },
    {
     "name": "stdout",
     "output_type": "stream",
     "text": [
      "Generator Error: 4.135194778442383, epoch: 1, itr: 7\n",
      "Discriminator Error: 2.6828904083231464e-05, epoch: 1, itr: 7\n"
     ]
    },
    {
     "name": "stderr",
     "output_type": "stream",
     "text": [
      "\r",
      "9it [00:04,  2.10it/s]"
     ]
    },
    {
     "name": "stdout",
     "output_type": "stream",
     "text": [
      "Generator Error: 3.3454198837280273, epoch: 1, itr: 8\n",
      "Discriminator Error: 3.461044980213046e-05, epoch: 1, itr: 8\n"
     ]
    },
    {
     "name": "stderr",
     "output_type": "stream",
     "text": [
      "\r",
      "10it [00:04,  2.12it/s]"
     ]
    },
    {
     "name": "stdout",
     "output_type": "stream",
     "text": [
      "Generator Error: 3.5259313583374023, epoch: 1, itr: 9\n",
      "Discriminator Error: 3.5369215765967965e-05, epoch: 1, itr: 9\n"
     ]
    },
    {
     "name": "stderr",
     "output_type": "stream",
     "text": [
      "\r",
      "11it [00:05,  2.12it/s]"
     ]
    },
    {
     "name": "stdout",
     "output_type": "stream",
     "text": [
      "Generator Error: 3.687689781188965, epoch: 1, itr: 10\n",
      "Discriminator Error: 2.388775465078652e-05, epoch: 1, itr: 10\n"
     ]
    },
    {
     "name": "stderr",
     "output_type": "stream",
     "text": [
      "\r",
      "12it [00:05,  2.13it/s]"
     ]
    },
    {
     "name": "stdout",
     "output_type": "stream",
     "text": [
      "Generator Error: 4.356961250305176, epoch: 1, itr: 11\n",
      "Discriminator Error: 3.358893081895076e-05, epoch: 1, itr: 11\n"
     ]
    },
    {
     "name": "stderr",
     "output_type": "stream",
     "text": [
      "\r",
      "13it [00:06,  2.12it/s]"
     ]
    },
    {
     "name": "stdout",
     "output_type": "stream",
     "text": [
      "Generator Error: 3.487534761428833, epoch: 1, itr: 12\n",
      "Discriminator Error: 9.753704034665134e-06, epoch: 1, itr: 12\n"
     ]
    },
    {
     "name": "stderr",
     "output_type": "stream",
     "text": [
      "\r",
      "14it [00:06,  2.12it/s]"
     ]
    },
    {
     "name": "stdout",
     "output_type": "stream",
     "text": [
      "Generator Error: 3.2485225200653076, epoch: 1, itr: 13\n",
      "Discriminator Error: 2.4086955818347633e-05, epoch: 1, itr: 13\n"
     ]
    },
    {
     "name": "stderr",
     "output_type": "stream",
     "text": [
      "\r",
      "15it [00:07,  2.11it/s]"
     ]
    },
    {
     "name": "stdout",
     "output_type": "stream",
     "text": [
      "Generator Error: 3.9880242347717285, epoch: 1, itr: 14\n",
      "Discriminator Error: 3.2360774639528245e-05, epoch: 1, itr: 14\n"
     ]
    },
    {
     "name": "stderr",
     "output_type": "stream",
     "text": [
      "\r",
      "16it [00:07,  2.11it/s]"
     ]
    },
    {
     "name": "stdout",
     "output_type": "stream",
     "text": [
      "Generator Error: 3.3800904750823975, epoch: 1, itr: 15\n",
      "Discriminator Error: 3.4247394069097936e-05, epoch: 1, itr: 15\n"
     ]
    },
    {
     "name": "stderr",
     "output_type": "stream",
     "text": [
      "\r",
      "17it [00:08,  2.12it/s]"
     ]
    },
    {
     "name": "stdout",
     "output_type": "stream",
     "text": [
      "Generator Error: 3.3648009300231934, epoch: 1, itr: 16\n",
      "Discriminator Error: 0.0002785197866614908, epoch: 1, itr: 16\n"
     ]
    },
    {
     "name": "stderr",
     "output_type": "stream",
     "text": [
      "\r",
      "18it [00:08,  2.12it/s]"
     ]
    },
    {
     "name": "stdout",
     "output_type": "stream",
     "text": [
      "Generator Error: 3.7640979290008545, epoch: 1, itr: 17\n",
      "Discriminator Error: 2.7369089366402477e-05, epoch: 1, itr: 17\n"
     ]
    },
    {
     "name": "stderr",
     "output_type": "stream",
     "text": [
      "\r",
      "19it [00:08,  2.12it/s]"
     ]
    },
    {
     "name": "stdout",
     "output_type": "stream",
     "text": [
      "Generator Error: 3.0204408168792725, epoch: 1, itr: 18\n",
      "Discriminator Error: 6.417166150640696e-05, epoch: 1, itr: 18\n"
     ]
    },
    {
     "name": "stderr",
     "output_type": "stream",
     "text": [
      "\r",
      "20it [00:09,  2.13it/s]"
     ]
    },
    {
     "name": "stdout",
     "output_type": "stream",
     "text": [
      "Generator Error: 3.0339925289154053, epoch: 1, itr: 19\n",
      "Discriminator Error: 0.0005203260225243866, epoch: 1, itr: 19\n"
     ]
    },
    {
     "name": "stderr",
     "output_type": "stream",
     "text": [
      "\r",
      "21it [00:09,  2.13it/s]"
     ]
    },
    {
     "name": "stdout",
     "output_type": "stream",
     "text": [
      "Generator Error: 3.291633129119873, epoch: 1, itr: 20\n",
      "Discriminator Error: 1.286987571802456e-05, epoch: 1, itr: 20\n"
     ]
    },
    {
     "name": "stderr",
     "output_type": "stream",
     "text": [
      "\r",
      "22it [00:10,  2.14it/s]"
     ]
    },
    {
     "name": "stdout",
     "output_type": "stream",
     "text": [
      "Generator Error: 3.5535831451416016, epoch: 1, itr: 21\n",
      "Discriminator Error: 9.084021439775825e-05, epoch: 1, itr: 21\n"
     ]
    },
    {
     "name": "stderr",
     "output_type": "stream",
     "text": [
      "\r",
      "23it [00:10,  2.13it/s]"
     ]
    },
    {
     "name": "stdout",
     "output_type": "stream",
     "text": [
      "Generator Error: 3.3623790740966797, epoch: 1, itr: 22\n",
      "Discriminator Error: 0.00010902509529842064, epoch: 1, itr: 22\n"
     ]
    },
    {
     "name": "stderr",
     "output_type": "stream",
     "text": [
      "\r",
      "24it [00:11,  2.12it/s]"
     ]
    },
    {
     "name": "stdout",
     "output_type": "stream",
     "text": [
      "Generator Error: 3.088329315185547, epoch: 1, itr: 23\n",
      "Discriminator Error: 1.8888993508880958e-05, epoch: 1, itr: 23\n"
     ]
    },
    {
     "name": "stderr",
     "output_type": "stream",
     "text": [
      "\r",
      "25it [00:11,  2.12it/s]"
     ]
    },
    {
     "name": "stdout",
     "output_type": "stream",
     "text": [
      "Generator Error: 3.409127712249756, epoch: 1, itr: 24\n",
      "Discriminator Error: 2.4958122594398446e-05, epoch: 1, itr: 24\n"
     ]
    },
    {
     "name": "stderr",
     "output_type": "stream",
     "text": [
      "\r",
      "26it [00:12,  2.11it/s]"
     ]
    },
    {
     "name": "stdout",
     "output_type": "stream",
     "text": [
      "Generator Error: 3.9205615520477295, epoch: 1, itr: 25\n",
      "Discriminator Error: 0.0004881716158706695, epoch: 1, itr: 25\n"
     ]
    },
    {
     "name": "stderr",
     "output_type": "stream",
     "text": [
      "\r",
      "27it [00:12,  2.10it/s]"
     ]
    },
    {
     "name": "stdout",
     "output_type": "stream",
     "text": [
      "Generator Error: 3.449446201324463, epoch: 1, itr: 26\n",
      "Discriminator Error: 0.00032386076054535806, epoch: 1, itr: 26\n"
     ]
    },
    {
     "name": "stderr",
     "output_type": "stream",
     "text": [
      "\r",
      "28it [00:13,  2.10it/s]"
     ]
    },
    {
     "name": "stdout",
     "output_type": "stream",
     "text": [
      "Generator Error: 3.7548744678497314, epoch: 1, itr: 27\n",
      "Discriminator Error: 4.476160756894387e-05, epoch: 1, itr: 27\n"
     ]
    },
    {
     "name": "stderr",
     "output_type": "stream",
     "text": [
      "\r",
      "29it [00:13,  2.11it/s]"
     ]
    },
    {
     "name": "stdout",
     "output_type": "stream",
     "text": [
      "Generator Error: 3.5895180702209473, epoch: 1, itr: 28\n",
      "Discriminator Error: 2.032240263361018e-05, epoch: 1, itr: 28\n"
     ]
    },
    {
     "name": "stderr",
     "output_type": "stream",
     "text": [
      "\r",
      "30it [00:14,  2.10it/s]"
     ]
    },
    {
     "name": "stdout",
     "output_type": "stream",
     "text": [
      "Generator Error: 2.9677679538726807, epoch: 1, itr: 29\n",
      "Discriminator Error: 0.00047138522495515645, epoch: 1, itr: 29\n"
     ]
    },
    {
     "name": "stderr",
     "output_type": "stream",
     "text": [
      "\r",
      "31it [00:14,  2.10it/s]"
     ]
    },
    {
     "name": "stdout",
     "output_type": "stream",
     "text": [
      "Generator Error: 3.241777181625366, epoch: 1, itr: 30\n",
      "Discriminator Error: 5.445468195830472e-05, epoch: 1, itr: 30\n"
     ]
    },
    {
     "name": "stderr",
     "output_type": "stream",
     "text": [
      "\r",
      "32it [00:15,  2.10it/s]"
     ]
    },
    {
     "name": "stdout",
     "output_type": "stream",
     "text": [
      "Generator Error: 4.2176947593688965, epoch: 1, itr: 31\n",
      "Discriminator Error: 2.8436370484996587e-05, epoch: 1, itr: 31\n"
     ]
    },
    {
     "name": "stderr",
     "output_type": "stream",
     "text": [
      "\r",
      "33it [00:15,  2.11it/s]"
     ]
    },
    {
     "name": "stdout",
     "output_type": "stream",
     "text": [
      "Generator Error: 3.540806531906128, epoch: 1, itr: 32\n",
      "Discriminator Error: 0.00017118715913966298, epoch: 1, itr: 32\n"
     ]
    },
    {
     "name": "stderr",
     "output_type": "stream",
     "text": [
      "\r",
      "34it [00:16,  2.12it/s]"
     ]
    },
    {
     "name": "stdout",
     "output_type": "stream",
     "text": [
      "Generator Error: 2.8718018531799316, epoch: 1, itr: 33\n",
      "Discriminator Error: 3.4029450034722686e-05, epoch: 1, itr: 33\n"
     ]
    },
    {
     "name": "stderr",
     "output_type": "stream",
     "text": [
      "\r",
      "35it [00:16,  2.11it/s]"
     ]
    },
    {
     "name": "stdout",
     "output_type": "stream",
     "text": [
      "Generator Error: 3.498741865158081, epoch: 1, itr: 34\n",
      "Discriminator Error: 4.7070745495148e-05, epoch: 1, itr: 34\n"
     ]
    },
    {
     "name": "stderr",
     "output_type": "stream",
     "text": [
      "\r",
      "36it [00:17,  2.10it/s]"
     ]
    },
    {
     "name": "stdout",
     "output_type": "stream",
     "text": [
      "Generator Error: 3.7210631370544434, epoch: 1, itr: 35\n",
      "Discriminator Error: 1.8888782506110147e-05, epoch: 1, itr: 35\n"
     ]
    },
    {
     "name": "stderr",
     "output_type": "stream",
     "text": [
      "\r",
      "37it [00:17,  2.10it/s]"
     ]
    },
    {
     "name": "stdout",
     "output_type": "stream",
     "text": [
      "Generator Error: 4.140812397003174, epoch: 1, itr: 36\n",
      "Discriminator Error: 3.238240606151521e-05, epoch: 1, itr: 36\n"
     ]
    },
    {
     "name": "stderr",
     "output_type": "stream",
     "text": [
      "\r",
      "38it [00:17,  2.11it/s]"
     ]
    },
    {
     "name": "stdout",
     "output_type": "stream",
     "text": [
      "Generator Error: 3.4517741203308105, epoch: 1, itr: 37\n",
      "Discriminator Error: 2.6242178137181327e-05, epoch: 1, itr: 37\n"
     ]
    },
    {
     "name": "stderr",
     "output_type": "stream",
     "text": [
      "\r",
      "39it [00:18,  2.11it/s]"
     ]
    },
    {
     "name": "stdout",
     "output_type": "stream",
     "text": [
      "Generator Error: 2.8175690174102783, epoch: 1, itr: 38\n",
      "Discriminator Error: 1.4074769751459826e-05, epoch: 1, itr: 38\n"
     ]
    },
    {
     "name": "stderr",
     "output_type": "stream",
     "text": [
      "\r",
      "40it [00:18,  2.12it/s]"
     ]
    },
    {
     "name": "stdout",
     "output_type": "stream",
     "text": [
      "Generator Error: 3.7582640647888184, epoch: 1, itr: 39\n",
      "Discriminator Error: 2.8708054742310196e-05, epoch: 1, itr: 39\n"
     ]
    },
    {
     "name": "stderr",
     "output_type": "stream",
     "text": [
      "\r",
      "41it [00:19,  2.11it/s]"
     ]
    },
    {
     "name": "stdout",
     "output_type": "stream",
     "text": [
      "Generator Error: 3.8321633338928223, epoch: 1, itr: 40\n",
      "Discriminator Error: 4.783764779858757e-06, epoch: 1, itr: 40\n"
     ]
    },
    {
     "name": "stderr",
     "output_type": "stream",
     "text": [
      "\r",
      "42it [00:19,  2.12it/s]"
     ]
    },
    {
     "name": "stdout",
     "output_type": "stream",
     "text": [
      "Generator Error: 2.957213878631592, epoch: 1, itr: 41\n",
      "Discriminator Error: 0.00010762643796624616, epoch: 1, itr: 41\n"
     ]
    },
    {
     "name": "stderr",
     "output_type": "stream",
     "text": [
      "\r",
      "43it [00:20,  2.11it/s]"
     ]
    },
    {
     "name": "stdout",
     "output_type": "stream",
     "text": [
      "Generator Error: 3.745096206665039, epoch: 1, itr: 42\n",
      "Discriminator Error: 2.0696974388556555e-05, epoch: 1, itr: 42\n"
     ]
    },
    {
     "name": "stderr",
     "output_type": "stream",
     "text": [
      "\r",
      "44it [00:20,  2.12it/s]"
     ]
    },
    {
     "name": "stdout",
     "output_type": "stream",
     "text": [
      "Generator Error: 3.3163113594055176, epoch: 1, itr: 43\n",
      "Discriminator Error: 7.5998009378963616e-06, epoch: 1, itr: 43\n"
     ]
    },
    {
     "name": "stderr",
     "output_type": "stream",
     "text": [
      "\r",
      "45it [00:21,  2.12it/s]"
     ]
    },
    {
     "name": "stdout",
     "output_type": "stream",
     "text": [
      "Generator Error: 3.5995383262634277, epoch: 1, itr: 44\n",
      "Discriminator Error: 0.00010848452802747488, epoch: 1, itr: 44\n"
     ]
    },
    {
     "name": "stderr",
     "output_type": "stream",
     "text": [
      "\r",
      "46it [00:21,  2.13it/s]"
     ]
    },
    {
     "name": "stdout",
     "output_type": "stream",
     "text": [
      "Generator Error: 2.8808205127716064, epoch: 1, itr: 45\n",
      "Discriminator Error: 0.0003656837798189372, epoch: 1, itr: 45\n"
     ]
    },
    {
     "name": "stderr",
     "output_type": "stream",
     "text": [
      "\r",
      "47it [00:22,  2.13it/s]"
     ]
    },
    {
     "name": "stdout",
     "output_type": "stream",
     "text": [
      "Generator Error: 3.677671432495117, epoch: 1, itr: 46\n",
      "Discriminator Error: 3.343003481859341e-05, epoch: 1, itr: 46\n"
     ]
    },
    {
     "name": "stderr",
     "output_type": "stream",
     "text": [
      "\r",
      "48it [00:22,  2.12it/s]"
     ]
    },
    {
     "name": "stdout",
     "output_type": "stream",
     "text": [
      "Generator Error: 3.391352891921997, epoch: 1, itr: 47\n",
      "Discriminator Error: 6.452438537962735e-05, epoch: 1, itr: 47\n"
     ]
    },
    {
     "name": "stderr",
     "output_type": "stream",
     "text": [
      "\r",
      "49it [00:23,  2.11it/s]"
     ]
    },
    {
     "name": "stdout",
     "output_type": "stream",
     "text": [
      "Generator Error: 3.6031477451324463, epoch: 1, itr: 48\n",
      "Discriminator Error: 2.458166090946179e-05, epoch: 1, itr: 48\n"
     ]
    },
    {
     "name": "stderr",
     "output_type": "stream",
     "text": [
      "\r",
      "50it [00:23,  2.11it/s]"
     ]
    },
    {
     "name": "stdout",
     "output_type": "stream",
     "text": [
      "Generator Error: 3.249222993850708, epoch: 1, itr: 49\n",
      "Discriminator Error: 6.844342715339735e-05, epoch: 1, itr: 49\n"
     ]
    },
    {
     "name": "stderr",
     "output_type": "stream",
     "text": [
      "\r",
      "51it [00:24,  2.11it/s]"
     ]
    },
    {
     "name": "stdout",
     "output_type": "stream",
     "text": [
      "Generator Error: 3.8555922508239746, epoch: 1, itr: 50\n",
      "Discriminator Error: 2.4036726244958118e-05, epoch: 1, itr: 50\n"
     ]
    },
    {
     "name": "stderr",
     "output_type": "stream",
     "text": [
      "\r",
      "52it [00:24,  2.12it/s]"
     ]
    },
    {
     "name": "stdout",
     "output_type": "stream",
     "text": [
      "Generator Error: 3.610525369644165, epoch: 1, itr: 51\n",
      "Discriminator Error: 5.154508835403249e-05, epoch: 1, itr: 51\n"
     ]
    },
    {
     "name": "stderr",
     "output_type": "stream",
     "text": [
      "\r",
      "53it [00:25,  2.12it/s]"
     ]
    },
    {
     "name": "stdout",
     "output_type": "stream",
     "text": [
      "Generator Error: 3.5644097328186035, epoch: 1, itr: 52\n",
      "Discriminator Error: 4.98532026540488e-05, epoch: 1, itr: 52\n"
     ]
    },
    {
     "name": "stderr",
     "output_type": "stream",
     "text": [
      "\r",
      "54it [00:25,  2.11it/s]"
     ]
    },
    {
     "name": "stdout",
     "output_type": "stream",
     "text": [
      "Generator Error: 3.634294033050537, epoch: 1, itr: 53\n",
      "Discriminator Error: 1.7319242033408955e-05, epoch: 1, itr: 53\n"
     ]
    },
    {
     "name": "stderr",
     "output_type": "stream",
     "text": [
      "\r",
      "55it [00:26,  2.11it/s]"
     ]
    },
    {
     "name": "stdout",
     "output_type": "stream",
     "text": [
      "Generator Error: 3.8607165813446045, epoch: 1, itr: 54\n",
      "Discriminator Error: 2.7917685656575486e-05, epoch: 1, itr: 54\n"
     ]
    },
    {
     "name": "stderr",
     "output_type": "stream",
     "text": [
      "\r",
      "56it [00:26,  2.10it/s]"
     ]
    },
    {
     "name": "stdout",
     "output_type": "stream",
     "text": [
      "Generator Error: 3.8833940029144287, epoch: 1, itr: 55\n",
      "Discriminator Error: 2.221595059381798e-05, epoch: 1, itr: 55\n"
     ]
    },
    {
     "name": "stderr",
     "output_type": "stream",
     "text": [
      "\r",
      "57it [00:26,  2.10it/s]"
     ]
    },
    {
     "name": "stdout",
     "output_type": "stream",
     "text": [
      "Generator Error: 3.6065425872802734, epoch: 1, itr: 56\n",
      "Discriminator Error: 1.768355468811933e-05, epoch: 1, itr: 56\n"
     ]
    },
    {
     "name": "stderr",
     "output_type": "stream",
     "text": [
      "\r",
      "58it [00:27,  2.11it/s]"
     ]
    },
    {
     "name": "stdout",
     "output_type": "stream",
     "text": [
      "Generator Error: 3.508876323699951, epoch: 1, itr: 57\n",
      "Discriminator Error: 0.00020337459864094853, epoch: 1, itr: 57\n"
     ]
    },
    {
     "name": "stderr",
     "output_type": "stream",
     "text": [
      "\r",
      "59it [00:27,  2.11it/s]"
     ]
    },
    {
     "name": "stdout",
     "output_type": "stream",
     "text": [
      "Generator Error: 3.9863357543945312, epoch: 1, itr: 58\n",
      "Discriminator Error: 3.9050755731295794e-05, epoch: 1, itr: 58\n"
     ]
    },
    {
     "name": "stderr",
     "output_type": "stream",
     "text": [
      "\r",
      "60it [00:28,  2.11it/s]"
     ]
    },
    {
     "name": "stdout",
     "output_type": "stream",
     "text": [
      "Generator Error: 3.5977494716644287, epoch: 1, itr: 59\n",
      "Discriminator Error: 1.84221935342066e-05, epoch: 1, itr: 59\n"
     ]
    },
    {
     "name": "stderr",
     "output_type": "stream",
     "text": [
      "\r",
      "61it [00:28,  2.10it/s]"
     ]
    },
    {
     "name": "stdout",
     "output_type": "stream",
     "text": [
      "Generator Error: 4.091568470001221, epoch: 1, itr: 60\n",
      "Discriminator Error: 3.0158133085933514e-05, epoch: 1, itr: 60\n"
     ]
    },
    {
     "name": "stderr",
     "output_type": "stream",
     "text": [
      "\r",
      "62it [00:29,  2.11it/s]"
     ]
    },
    {
     "name": "stdout",
     "output_type": "stream",
     "text": [
      "Generator Error: 3.554202079772949, epoch: 1, itr: 61\n",
      "Discriminator Error: 1.5650290151825175e-05, epoch: 1, itr: 61\n"
     ]
    },
    {
     "name": "stderr",
     "output_type": "stream",
     "text": [
      "\r",
      "63it [00:29,  2.10it/s]"
     ]
    },
    {
     "name": "stdout",
     "output_type": "stream",
     "text": [
      "Generator Error: 4.0449395179748535, epoch: 1, itr: 62\n",
      "Discriminator Error: 6.077794751035981e-06, epoch: 1, itr: 62\n"
     ]
    },
    {
     "name": "stderr",
     "output_type": "stream",
     "text": [
      "\r",
      "64it [00:30,  2.11it/s]"
     ]
    },
    {
     "name": "stdout",
     "output_type": "stream",
     "text": [
      "Generator Error: 3.5188400745391846, epoch: 1, itr: 63\n",
      "Discriminator Error: 1.1505935617606156e-05, epoch: 1, itr: 63\n"
     ]
    },
    {
     "name": "stderr",
     "output_type": "stream",
     "text": [
      "\r",
      "65it [00:30,  2.11it/s]"
     ]
    },
    {
     "name": "stdout",
     "output_type": "stream",
     "text": [
      "Generator Error: 3.3265693187713623, epoch: 1, itr: 64\n",
      "Discriminator Error: 9.980846698454116e-06, epoch: 1, itr: 64\n"
     ]
    },
    {
     "name": "stderr",
     "output_type": "stream",
     "text": [
      "\r",
      "66it [00:31,  2.12it/s]"
     ]
    },
    {
     "name": "stdout",
     "output_type": "stream",
     "text": [
      "Generator Error: 3.180311679840088, epoch: 1, itr: 65\n",
      "Discriminator Error: 1.657032589719165e-05, epoch: 1, itr: 65\n"
     ]
    },
    {
     "name": "stderr",
     "output_type": "stream",
     "text": [
      "\r",
      "67it [00:31,  2.11it/s]"
     ]
    },
    {
     "name": "stdout",
     "output_type": "stream",
     "text": [
      "Generator Error: 3.818148612976074, epoch: 1, itr: 66\n",
      "Discriminator Error: 7.236756573547609e-06, epoch: 1, itr: 66\n"
     ]
    },
    {
     "name": "stderr",
     "output_type": "stream",
     "text": [
      "\r",
      "68it [00:32,  2.11it/s]"
     ]
    },
    {
     "name": "stdout",
     "output_type": "stream",
     "text": [
      "Generator Error: 3.1388795375823975, epoch: 1, itr: 67\n",
      "Discriminator Error: 2.709656473598443e-05, epoch: 1, itr: 67\n"
     ]
    },
    {
     "name": "stderr",
     "output_type": "stream",
     "text": [
      "\r",
      "69it [00:32,  2.11it/s]"
     ]
    },
    {
     "name": "stdout",
     "output_type": "stream",
     "text": [
      "Generator Error: 3.1473617553710938, epoch: 1, itr: 68\n",
      "Discriminator Error: 1.0572677638265304e-05, epoch: 1, itr: 68\n"
     ]
    },
    {
     "name": "stderr",
     "output_type": "stream",
     "text": [
      "\r",
      "70it [00:33,  2.11it/s]"
     ]
    },
    {
     "name": "stdout",
     "output_type": "stream",
     "text": [
      "Generator Error: 3.3406946659088135, epoch: 1, itr: 69\n",
      "Discriminator Error: 4.819739478989504e-05, epoch: 1, itr: 69\n"
     ]
    },
    {
     "name": "stderr",
     "output_type": "stream",
     "text": [
      "\r",
      "71it [00:33,  2.11it/s]"
     ]
    },
    {
     "name": "stdout",
     "output_type": "stream",
     "text": [
      "Generator Error: 3.5194437503814697, epoch: 1, itr: 70\n",
      "Discriminator Error: 1.4809167623752728e-05, epoch: 1, itr: 70\n"
     ]
    },
    {
     "name": "stderr",
     "output_type": "stream",
     "text": [
      "\r",
      "72it [00:34,  2.10it/s]"
     ]
    },
    {
     "name": "stdout",
     "output_type": "stream",
     "text": [
      "Generator Error: 3.7644495964050293, epoch: 1, itr: 71\n",
      "Discriminator Error: 1.721286571410019e-05, epoch: 1, itr: 71\n"
     ]
    },
    {
     "name": "stderr",
     "output_type": "stream",
     "text": [
      "\r",
      "73it [00:34,  2.10it/s]"
     ]
    },
    {
     "name": "stdout",
     "output_type": "stream",
     "text": [
      "Generator Error: 3.050095796585083, epoch: 1, itr: 72\n",
      "Discriminator Error: 3.899918738170527e-05, epoch: 1, itr: 72\n"
     ]
    },
    {
     "name": "stderr",
     "output_type": "stream",
     "text": [
      "\r",
      "74it [00:35,  2.11it/s]"
     ]
    },
    {
     "name": "stdout",
     "output_type": "stream",
     "text": [
      "Generator Error: 3.4656760692596436, epoch: 1, itr: 73\n",
      "Discriminator Error: 1.6859088646015152e-05, epoch: 1, itr: 73\n"
     ]
    },
    {
     "name": "stderr",
     "output_type": "stream",
     "text": [
      "\r",
      "75it [00:35,  2.10it/s]"
     ]
    },
    {
     "name": "stdout",
     "output_type": "stream",
     "text": [
      "Generator Error: 3.632662296295166, epoch: 1, itr: 74\n",
      "Discriminator Error: 4.330576484790072e-05, epoch: 1, itr: 74\n"
     ]
    },
    {
     "name": "stderr",
     "output_type": "stream",
     "text": [
      "\r",
      "76it [00:35,  2.11it/s]"
     ]
    },
    {
     "name": "stdout",
     "output_type": "stream",
     "text": [
      "Generator Error: 3.478074312210083, epoch: 1, itr: 75\n",
      "Discriminator Error: 2.4032911824178882e-05, epoch: 1, itr: 75\n"
     ]
    },
    {
     "name": "stderr",
     "output_type": "stream",
     "text": [
      "\r",
      "77it [00:36,  2.11it/s]"
     ]
    },
    {
     "name": "stdout",
     "output_type": "stream",
     "text": [
      "Generator Error: 3.4865238666534424, epoch: 1, itr: 76\n",
      "Discriminator Error: 4.610130417859182e-05, epoch: 1, itr: 76\n"
     ]
    },
    {
     "name": "stderr",
     "output_type": "stream",
     "text": [
      "\r",
      "78it [00:36,  2.11it/s]"
     ]
    },
    {
     "name": "stdout",
     "output_type": "stream",
     "text": [
      "Generator Error: 3.411020040512085, epoch: 1, itr: 77\n",
      "Discriminator Error: 3.446648042881861e-05, epoch: 1, itr: 77\n"
     ]
    },
    {
     "name": "stderr",
     "output_type": "stream",
     "text": [
      "\r",
      "79it [00:37,  2.08it/s]"
     ]
    },
    {
     "name": "stdout",
     "output_type": "stream",
     "text": [
      "Generator Error: 3.670121669769287, epoch: 1, itr: 78\n",
      "Discriminator Error: 1.756645542627666e-05, epoch: 1, itr: 78\n"
     ]
    },
    {
     "name": "stderr",
     "output_type": "stream",
     "text": [
      "\r",
      "80it [00:37,  2.09it/s]"
     ]
    },
    {
     "name": "stdout",
     "output_type": "stream",
     "text": [
      "Generator Error: 3.3410491943359375, epoch: 1, itr: 79\n",
      "Discriminator Error: 5.876766408619005e-06, epoch: 1, itr: 79\n"
     ]
    },
    {
     "name": "stderr",
     "output_type": "stream",
     "text": [
      "\r",
      "81it [00:38,  2.08it/s]"
     ]
    },
    {
     "name": "stdout",
     "output_type": "stream",
     "text": [
      "Generator Error: 3.6349122524261475, epoch: 1, itr: 80\n",
      "Discriminator Error: 1.1883571460202802e-05, epoch: 1, itr: 80\n"
     ]
    },
    {
     "name": "stderr",
     "output_type": "stream",
     "text": [
      "\r",
      "82it [00:38,  2.09it/s]"
     ]
    },
    {
     "name": "stdout",
     "output_type": "stream",
     "text": [
      "Generator Error: 3.446061372756958, epoch: 1, itr: 81\n",
      "Discriminator Error: 8.100306149572134e-05, epoch: 1, itr: 81\n"
     ]
    },
    {
     "name": "stderr",
     "output_type": "stream",
     "text": [
      "\r",
      "83it [00:39,  2.07it/s]"
     ]
    },
    {
     "name": "stdout",
     "output_type": "stream",
     "text": [
      "Generator Error: 3.704432249069214, epoch: 1, itr: 82\n",
      "Discriminator Error: 7.781311978760641e-06, epoch: 1, itr: 82\n"
     ]
    },
    {
     "name": "stderr",
     "output_type": "stream",
     "text": [
      "\r",
      "84it [00:39,  2.09it/s]"
     ]
    },
    {
     "name": "stdout",
     "output_type": "stream",
     "text": [
      "Generator Error: 3.6307199001312256, epoch: 1, itr: 83\n",
      "Discriminator Error: 2.1928790374659002e-05, epoch: 1, itr: 83\n"
     ]
    },
    {
     "name": "stderr",
     "output_type": "stream",
     "text": [
      "\r",
      "85it [00:40,  2.09it/s]"
     ]
    },
    {
     "name": "stdout",
     "output_type": "stream",
     "text": [
      "Generator Error: 3.4344377517700195, epoch: 1, itr: 84\n",
      "Discriminator Error: 8.885570423444733e-06, epoch: 1, itr: 84\n"
     ]
    },
    {
     "name": "stderr",
     "output_type": "stream",
     "text": [
      "\r",
      "86it [00:40,  2.10it/s]"
     ]
    },
    {
     "name": "stdout",
     "output_type": "stream",
     "text": [
      "Generator Error: 3.754777431488037, epoch: 1, itr: 85\n",
      "Discriminator Error: 2.2708640244673006e-05, epoch: 1, itr: 85\n"
     ]
    },
    {
     "name": "stderr",
     "output_type": "stream",
     "text": [
      "\r",
      "87it [00:41,  2.09it/s]"
     ]
    },
    {
     "name": "stdout",
     "output_type": "stream",
     "text": [
      "Generator Error: 3.299129009246826, epoch: 1, itr: 86\n",
      "Discriminator Error: 5.171050361241214e-05, epoch: 1, itr: 86\n"
     ]
    },
    {
     "name": "stderr",
     "output_type": "stream",
     "text": [
      "\r",
      "88it [00:41,  2.09it/s]"
     ]
    },
    {
     "name": "stdout",
     "output_type": "stream",
     "text": [
      "Generator Error: 2.867337942123413, epoch: 1, itr: 87\n",
      "Discriminator Error: 3.3746833651093766e-05, epoch: 1, itr: 87\n"
     ]
    },
    {
     "name": "stderr",
     "output_type": "stream",
     "text": [
      "\r",
      "89it [00:42,  2.08it/s]"
     ]
    },
    {
     "name": "stdout",
     "output_type": "stream",
     "text": [
      "Generator Error: 3.7652933597564697, epoch: 1, itr: 88\n",
      "Discriminator Error: 9.228198177879676e-05, epoch: 1, itr: 88\n"
     ]
    },
    {
     "name": "stderr",
     "output_type": "stream",
     "text": [
      "\r",
      "90it [00:42,  2.08it/s]"
     ]
    },
    {
     "name": "stdout",
     "output_type": "stream",
     "text": [
      "Generator Error: 3.5890822410583496, epoch: 1, itr: 89\n",
      "Discriminator Error: 2.6041818273370154e-05, epoch: 1, itr: 89\n"
     ]
    },
    {
     "name": "stderr",
     "output_type": "stream",
     "text": [
      "\r",
      "91it [00:43,  2.07it/s]"
     ]
    },
    {
     "name": "stdout",
     "output_type": "stream",
     "text": [
      "Generator Error: 4.061903953552246, epoch: 1, itr: 90\n",
      "Discriminator Error: 6.090898750699125e-06, epoch: 1, itr: 90\n"
     ]
    },
    {
     "name": "stderr",
     "output_type": "stream",
     "text": [
      "\r",
      "92it [00:43,  2.06it/s]"
     ]
    }
   ],
   "source": [
    "for epoch in range(10):\n",
    "    for i, batch in tqdm(enumerate(dataloader)):\n",
    "        real_A = batch['A'] # old image\n",
    "        real_B = batch['B'] # new image\n",
    "        \n",
    "        # train generator\n",
    "        optimier_G.zero_grad()\n",
    "        \n",
    "         # Adversarial ground truths\n",
    "        valid = Variable(Tensor(np.ones((real_A.size(0), *patch))), requires_grad=False) # ground truth for valid\n",
    "        fake = Variable(Tensor(np.zeros((real_A.size(0), *patch))), requires_grad=False) # ground truth for invalid\n",
    "        \n",
    "        \n",
    "        # GAN loss\n",
    "        fake_B = generator(real_A.to(device)) # fake sample generated by generator\n",
    "        pred_fake = discriminator(fake_B.to(device), real_B.to(device)) # prediction using discriminator\n",
    "        loss_generator = loss_fn_generator(pred_fake.to(device), valid.to(device)) # check if the sample is valid or not\n",
    "        \n",
    "        loss_pixel = loss_fn_disc(fake_B.to(device), real_B.to(device)) # calculate the pixel wise loss\n",
    "        \n",
    "        # total loss\n",
    "        loss_G = loss_generator + lambda_pixel * loss_pixel # total loss of the generator\n",
    "        \n",
    "        loss_G.backward()\n",
    "        optimier_G.step()\n",
    "        \n",
    "        ## Train discriminator\n",
    "        optimier_D.zero_grad()\n",
    "        \n",
    "        # Real loss\n",
    "        pred_real = discriminator(real_B.to(device), real_A.to(device)) # loss to check real or not\n",
    "        loss_real = loss_fn_generator(pred_real, valid)\n",
    "\n",
    "        # Fake loss\n",
    "        pred_fake = discriminator(fake_B.detach().to(device), real_A.to(device)) # loss to check fake or not\n",
    "        loss_fake = loss_fn_generator(pred_fake.to(device), fake.to(device))\n",
    "\n",
    "        # Total loss\n",
    "        loss_D = 0.5 * (loss_real + loss_fake) # total loss of the discriminator\n",
    "        \n",
    "        loss_D.backward()\n",
    "        optimier_D.step()\n",
    "        \n",
    "        # for logging\n",
    "        print(f\"Generator Error: {torch.linalg.norm(loss_G).item()}, epoch: {epoch}, itr: {i}\")\n",
    "        print(f\"Discriminator Error: {torch.linalg.norm(loss_D).item()}, epoch: {epoch}, itr: {i}\")\n",
    "        \n",
    "        # train with only 5000 images\n",
    "        if i % 500 ==  0 and i > 0:\n",
    "            break\n",
    "            \n",
    "        torch.cuda.empty_cache()"
   ]
  },
  {
   "cell_type": "code",
   "execution_count": 13,
   "id": "055af4cf",
   "metadata": {},
   "outputs": [
    {
     "ename": "FileNotFoundError",
     "evalue": "[Errno 2] No such file or directory: './data/train/reconstructed_images\\\\001876.jpg'",
     "output_type": "error",
     "traceback": [
      "\u001b[1;31m---------------------------------------------------------------------------\u001b[0m",
      "\u001b[1;31mFileNotFoundError\u001b[0m                         Traceback (most recent call last)",
      "\u001b[1;32m~\\AppData\\Local\\Temp/ipykernel_19332/1071639987.py\u001b[0m in \u001b[0;36m<module>\u001b[1;34m\u001b[0m\n\u001b[0;32m      1\u001b[0m \u001b[0mtest_image_index\u001b[0m \u001b[1;33m=\u001b[0m \u001b[1;36m1875\u001b[0m\u001b[1;33m\u001b[0m\u001b[1;33m\u001b[0m\u001b[0m\n\u001b[0;32m      2\u001b[0m \u001b[1;33m\u001b[0m\u001b[0m\n\u001b[1;32m----> 3\u001b[1;33m \u001b[0mgenerated_image\u001b[0m \u001b[1;33m=\u001b[0m \u001b[0mgenerator\u001b[0m\u001b[1;33m(\u001b[0m\u001b[0mpair_image_dataloader\u001b[0m\u001b[1;33m[\u001b[0m\u001b[0mtest_image_index\u001b[0m\u001b[1;33m]\u001b[0m\u001b[1;33m[\u001b[0m\u001b[1;34m'A'\u001b[0m\u001b[1;33m]\u001b[0m\u001b[1;33m.\u001b[0m\u001b[0munsqueeze\u001b[0m\u001b[1;33m(\u001b[0m\u001b[1;36m0\u001b[0m\u001b[1;33m)\u001b[0m\u001b[1;33m.\u001b[0m\u001b[0mto\u001b[0m\u001b[1;33m(\u001b[0m\u001b[0mdevice\u001b[0m\u001b[1;33m)\u001b[0m\u001b[1;33m)\u001b[0m\u001b[1;33m.\u001b[0m\u001b[0mdetach\u001b[0m\u001b[1;33m(\u001b[0m\u001b[1;33m)\u001b[0m\u001b[1;33m.\u001b[0m\u001b[0mcpu\u001b[0m\u001b[1;33m(\u001b[0m\u001b[1;33m)\u001b[0m\u001b[1;33m.\u001b[0m\u001b[0mnumpy\u001b[0m\u001b[1;33m(\u001b[0m\u001b[1;33m)\u001b[0m\u001b[1;33m[\u001b[0m\u001b[1;36m0\u001b[0m\u001b[1;33m]\u001b[0m\u001b[1;33m\u001b[0m\u001b[1;33m\u001b[0m\u001b[0m\n\u001b[0m\u001b[0;32m      4\u001b[0m output_image = image_manipulation.np_to_pil(\n\u001b[0;32m      5\u001b[0m     \u001b[0mgenerated_image\u001b[0m\u001b[1;33m\u001b[0m\u001b[1;33m\u001b[0m\u001b[0m\n",
      "\u001b[1;32mD:\\Projects\\Minor\\webpage\\pix2pix\\data\\dataloader.py\u001b[0m in \u001b[0;36m__getitem__\u001b[1;34m(self, index)\u001b[0m\n\u001b[0;32m     18\u001b[0m \u001b[1;33m\u001b[0m\u001b[0m\n\u001b[0;32m     19\u001b[0m     \u001b[1;32mdef\u001b[0m \u001b[0m__getitem__\u001b[0m\u001b[1;33m(\u001b[0m\u001b[0mself\u001b[0m\u001b[1;33m,\u001b[0m \u001b[0mindex\u001b[0m\u001b[1;33m)\u001b[0m\u001b[1;33m:\u001b[0m\u001b[1;33m\u001b[0m\u001b[1;33m\u001b[0m\u001b[0m\n\u001b[1;32m---> 20\u001b[1;33m         \u001b[0mreconstruted_image\u001b[0m \u001b[1;33m=\u001b[0m \u001b[0mImage\u001b[0m\u001b[1;33m.\u001b[0m\u001b[0mopen\u001b[0m\u001b[1;33m(\u001b[0m\u001b[0mself\u001b[0m\u001b[1;33m.\u001b[0m\u001b[0mreconstructed_image_files\u001b[0m\u001b[1;33m[\u001b[0m\u001b[0mindex\u001b[0m \u001b[1;33m%\u001b[0m \u001b[0mlen\u001b[0m\u001b[1;33m(\u001b[0m\u001b[0mself\u001b[0m\u001b[1;33m.\u001b[0m\u001b[0mreconstructed_image_files\u001b[0m\u001b[1;33m)\u001b[0m\u001b[1;33m]\u001b[0m\u001b[1;33m)\u001b[0m\u001b[1;33m\u001b[0m\u001b[1;33m\u001b[0m\u001b[0m\n\u001b[0m\u001b[0;32m     21\u001b[0m         \u001b[0mold_image\u001b[0m \u001b[1;33m=\u001b[0m \u001b[0mImage\u001b[0m\u001b[1;33m.\u001b[0m\u001b[0mopen\u001b[0m\u001b[1;33m(\u001b[0m\u001b[0mself\u001b[0m\u001b[1;33m.\u001b[0m\u001b[0mold_image_files\u001b[0m\u001b[1;33m[\u001b[0m\u001b[0mindex\u001b[0m \u001b[1;33m%\u001b[0m \u001b[0mlen\u001b[0m\u001b[1;33m(\u001b[0m\u001b[0mself\u001b[0m\u001b[1;33m.\u001b[0m\u001b[0mold_image_files\u001b[0m\u001b[1;33m)\u001b[0m\u001b[1;33m]\u001b[0m\u001b[1;33m)\u001b[0m\u001b[1;33m\u001b[0m\u001b[1;33m\u001b[0m\u001b[0m\n\u001b[0;32m     22\u001b[0m \u001b[1;33m\u001b[0m\u001b[0m\n",
      "\u001b[1;32m~\\AppData\\Local\\Programs\\Python\\Python39\\lib\\site-packages\\PIL\\Image.py\u001b[0m in \u001b[0;36mopen\u001b[1;34m(fp, mode, formats)\u001b[0m\n\u001b[0;32m   2973\u001b[0m \u001b[1;33m\u001b[0m\u001b[0m\n\u001b[0;32m   2974\u001b[0m     \u001b[1;32mif\u001b[0m \u001b[0mfilename\u001b[0m\u001b[1;33m:\u001b[0m\u001b[1;33m\u001b[0m\u001b[1;33m\u001b[0m\u001b[0m\n\u001b[1;32m-> 2975\u001b[1;33m         \u001b[0mfp\u001b[0m \u001b[1;33m=\u001b[0m \u001b[0mbuiltins\u001b[0m\u001b[1;33m.\u001b[0m\u001b[0mopen\u001b[0m\u001b[1;33m(\u001b[0m\u001b[0mfilename\u001b[0m\u001b[1;33m,\u001b[0m \u001b[1;34m\"rb\"\u001b[0m\u001b[1;33m)\u001b[0m\u001b[1;33m\u001b[0m\u001b[1;33m\u001b[0m\u001b[0m\n\u001b[0m\u001b[0;32m   2976\u001b[0m         \u001b[0mexclusive_fp\u001b[0m \u001b[1;33m=\u001b[0m \u001b[1;32mTrue\u001b[0m\u001b[1;33m\u001b[0m\u001b[1;33m\u001b[0m\u001b[0m\n\u001b[0;32m   2977\u001b[0m \u001b[1;33m\u001b[0m\u001b[0m\n",
      "\u001b[1;31mFileNotFoundError\u001b[0m: [Errno 2] No such file or directory: './data/train/reconstructed_images\\\\001876.jpg'"
     ]
    }
   ],
   "source": [
    "test_image_index = 1875\n",
    "\n",
    "generated_image = generator(pair_image_dataloader[test_image_index]['A'].unsqueeze(0).to(device)).detach().cpu().numpy()[0]\n",
    "output_image = image_manipulation.np_to_pil(\n",
    "    generated_image\n",
    ")\n",
    "# print(torch.norm(discriminator(\n",
    "#     generated_image, \n",
    "#     pair_image_dataloader[test_image_index]['B']\n",
    "# )))\n",
    "original_image = image_manipulation.np_to_pil(\n",
    "    pair_image_dataloader[test_image_index]['A'].detach().cpu().numpy()\n",
    ")\n",
    "\n",
    "new_image = Image.new(output_image.mode, (512, 256))\n",
    "\n",
    "new_image.paste(original_image, (0, 0))\n",
    "new_image.paste(output_image, (256, 0))\n",
    "\n",
    "new_image"
   ]
  },
  {
   "cell_type": "code",
   "execution_count": 28,
   "id": "761303e0",
   "metadata": {},
   "outputs": [],
   "source": [
    "torch.save(generator.state_dict(), \"saved_models/generator.pth\")\n",
    "torch.save(discriminator.state_dict(), \"saved_models/discriminator.pth\")"
   ]
  },
  {
   "cell_type": "code",
   "execution_count": 95,
   "id": "5a604c6c",
   "metadata": {},
   "outputs": [
    {
     "data": {
      "text/plain": [
       "True"
      ]
     },
     "execution_count": 95,
     "metadata": {},
     "output_type": "execute_result"
    }
   ],
   "source": [
    "os.path.exists(\"saved_models/generator.pth\")"
   ]
  }
 ],
 "metadata": {
  "kernelspec": {
   "display_name": "minor",
   "language": "python",
   "name": "minor"
  },
  "language_info": {
   "codemirror_mode": {
    "name": "ipython",
    "version": 3
   },
   "file_extension": ".py",
   "mimetype": "text/x-python",
   "name": "python",
   "nbconvert_exporter": "python",
   "pygments_lexer": "ipython3",
   "version": "3.9.5"
  }
 },
 "nbformat": 4,
 "nbformat_minor": 5
}
