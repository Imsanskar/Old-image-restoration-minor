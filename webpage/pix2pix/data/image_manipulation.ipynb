{
 "cells": [
  {
   "cell_type": "code",
   "execution_count": 1,
   "id": "0aab5a32",
   "metadata": {},
   "outputs": [],
   "source": [
    "import numpy as np\n",
    "import random\n",
    "import cv2\n",
    "from PIL import Image\n",
    "import os\n",
    "from io import BytesIO\n",
    "from tqdm.notebook import tqdm, trange\n",
    "import time"
   ]
  },
  {
   "cell_type": "code",
   "execution_count": 2,
   "id": "23a5007e",
   "metadata": {},
   "outputs": [],
   "source": [
    "def blend_image(original_image: Image.Image, blend_image_source: Image.Image, intensity = 0.4):\n",
    "    \"\"\"\n",
    "        Blends the original image with blend_image with intensity\n",
    "    \"\"\"\n",
    "    \n",
    "    # converts the blend_image to the format of original image\n",
    "    # because both the image needs to be in the same format\n",
    "    # same goes for size\n",
    "    blend_image_source = blend_image_source.convert(original_image.mode) \n",
    "    blend_image_source = blend_image_source.resize(original_image.size)\n",
    "    \n",
    "    new_image = Image.new(original_image.mode, original_image.size)\n",
    "    new_image = Image.blend(original_image, blend_image_source, intensity)\n",
    "    \n",
    "    return new_image"
   ]
  },
  {
   "cell_type": "code",
   "execution_count": 3,
   "id": "b9feef2a",
   "metadata": {},
   "outputs": [],
   "source": [
    "def pil_to_np(img_pil):\n",
    "    \"\"\"\n",
    "        Converts image from pil Image to numpy array\n",
    "    \"\"\"\n",
    "    ar: np.ndarray = np.array(img_pil)\n",
    "    print(ar.shape)\n",
    "    if len(ar.shape) == 3:\n",
    "        \"\"\"\n",
    "            Tensor transpose, since in this case tensor is 3D the order of transpose can be different\n",
    "            In 2D matrix the transpose is only i,j-> j,i but in more than 2D matrix different permutation can be \n",
    "            applied\n",
    "        \"\"\"\n",
    "        ar = ar.transpose(2, 0, 1)\n",
    "    else:\n",
    "        ar = ar[None, ...]\n",
    "\n",
    "    return ar.astype(np.float32) / 255."
   ]
  },
  {
   "cell_type": "code",
   "execution_count": 4,
   "id": "11162123",
   "metadata": {},
   "outputs": [],
   "source": [
    "def np_to_pil(img_np):\n",
    "    \"\"\"\n",
    "        Converts np.ndarray to Image.Image object\n",
    "    \"\"\"\n",
    "    ar = np.clip(img_np * 255, 0, 255).astype(np.uint8)\n",
    "\n",
    "    if img_np.shape[0] == 1:\n",
    "        ar = ar[0]\n",
    "    else:\n",
    "        ar = ar.transpose(1, 2, 0)\n",
    "\n",
    "    return Image.fromarray(ar)"
   ]
  },
  {
   "cell_type": "code",
   "execution_count": 5,
   "id": "8703eebd",
   "metadata": {},
   "outputs": [],
   "source": [
    "def synthesize_salt_pepper(image: Image.Image, amount, salt_vs_pepper):\n",
    "    \"\"\"\n",
    "        Salt and pepper noise is also known as an impulse noise, this noise can be caused by sharp and sudden \n",
    "        disturbances in the image signal. gives the appearance of scattered white or black(or both) pixel over\n",
    "        the image\n",
    "    \"\"\"\n",
    "    img_pil=pil_to_np(image)\n",
    "\n",
    "    out = img_pil.copy()\n",
    "    p = amount\n",
    "    q = salt_vs_pepper\n",
    "    flipped = np.random.choice([True, False], size=img_pil.shape,\n",
    "                               p=[p, 1 - p])\n",
    "    salted = np.random.choice([True, False], size=img_pil.shape,\n",
    "                              p=[q, 1 - q])\n",
    "    peppered = ~salted\n",
    "    out[flipped & salted] = 1\n",
    "    out[flipped & peppered] = 0.\n",
    "    noisy = np.clip(out, 0, 1).astype(np.float32)\n",
    "    return np_to_pil(noisy)"
   ]
  },
  {
   "cell_type": "code",
   "execution_count": 6,
   "id": "97268ca6",
   "metadata": {},
   "outputs": [],
   "source": [
    "def synthesize_speckle(image,std_l,std_r):\n",
    "\n",
    "    ## Give PIL, return the noisy PIL\n",
    "\n",
    "    img_pil=pil_to_np(image)\n",
    "\n",
    "    mean=0\n",
    "    std=random.uniform(std_l/255.,std_r/255.)\n",
    "    gauss=np.random.normal(loc=mean,scale=std,size=img_pil.shape)\n",
    "    noisy=img_pil+gauss*img_pil\n",
    "    noisy=np.clip(noisy,0,1).astype(np.float32)\n",
    "\n",
    "    return np_to_pil(noisy)"
   ]
  },
  {
   "cell_type": "code",
   "execution_count": 7,
   "id": "eb4a58e9",
   "metadata": {},
   "outputs": [],
   "source": [
    "def blur_image_v2(img):\n",
    "    x=np.array(img)\n",
    "    kernel_size_candidate=[(3,3),(5,5),(7,7)]\n",
    "    kernel_size=random.sample(kernel_size_candidate,1)[0]\n",
    "    std=random.uniform(1.,5.)\n",
    "\n",
    "    #print(\"The gaussian kernel size: (%d,%d) std: %.2f\"%(kernel_size[0],kernel_size[1],std))\n",
    "    blur=cv2.GaussianBlur(x,kernel_size,std)\n",
    "\n",
    "    return Image.fromarray(blur.astype(np.uint8))"
   ]
  },
  {
   "cell_type": "code",
   "execution_count": 8,
   "id": "50ac819c",
   "metadata": {},
   "outputs": [],
   "source": [
    "def synthesize_low_resolution(image: Image.Image):\n",
    "    \"\"\"\n",
    "        Creates a low resolution image from high resolution image\n",
    "    \"\"\"\n",
    "    width, height = image.size\n",
    "    \n",
    "    new_width = np.random.randint(int(width / 2), width - int(width / 5))\n",
    "    new_height = np.random.randint(int(height / 2), height - int(height / 5))\n",
    "    \n",
    "    image = image.resize((new_width, new_height), Image.BICUBIC)\n",
    "    \n",
    "    if random.uniform(0, 1) < 0.5:\n",
    "        image = image.resize((width, height), Image.NEAREST)\n",
    "    else:\n",
    "        image = image.resize((width, height), Image.BILINEAR)\n",
    "        \n",
    "    return image"
   ]
  },
  {
   "cell_type": "code",
   "execution_count": 9,
   "id": "018a8a72",
   "metadata": {},
   "outputs": [],
   "source": [
    "def online_add_degradation_v2(img):\n",
    "    task_id = np.random.permutation(4)\n",
    "\n",
    "    for x in task_id:\n",
    "        if x == 0 and random.uniform(0,1)<0.7:\n",
    "            img = blur_image_v2(img)\n",
    "        if x == 1 and random.uniform(0,1)<0.7:\n",
    "            flag = random.choice([1, 2, 3])\n",
    "            if flag == 1:\n",
    "                img = synthesize_gaussian(img, 5, 50)\n",
    "            if flag == 2:\n",
    "                img = synthesize_speckle(img, 5, 50)\n",
    "            if flag == 3:\n",
    "                img = synthesize_salt_pepper(img, random.uniform(0, 0.01), random.uniform(0.3, 0.8))\n",
    "        if x == 2 and random.uniform(0,1)<0.7:\n",
    "            img=synthesize_low_resolution(img)\n",
    "\n",
    "        if x==3 and random.uniform(0,1)<0.7:\n",
    "            img=convertToJpeg(img,random.randint(40,100))\n",
    "\n",
    "    return img"
   ]
  },
  {
   "cell_type": "code",
   "execution_count": 7,
   "id": "15e2d28e",
   "metadata": {},
   "outputs": [],
   "source": [
    "def zero_mask(row, col):\n",
    "    x = np.zeros((row, col, 3))\n",
    "    mask=Image.fromarray(x).convert(\"RGB\")\n",
    "    return mask\n",
    "\n",
    "def irregular_hole_synthesize(img, mask):\n",
    "    \"\"\"\n",
    "        Create holes using scrach paper textures\n",
    "        Args:\n",
    "            img: Original Image\n",
    "            mask: scratch paper texture\n",
    "    \"\"\"\n",
    "    img_np = np.array(img).astype('uint8')\n",
    "    mask = mask.resize(img.size)\n",
    "    mask = mask.convert(img.mode) \n",
    "    mask_np = np.array(mask).astype('uint8')\n",
    "    mask_np = mask_np / 255\n",
    "    img_new=img_np * (1 - mask_np) + mask_np * 255\n",
    "\n",
    "\n",
    "    hole_img=Image.fromarray(img_new.astype('uint8')).convert(\"RGB\")\n",
    "\n",
    "\n",
    "    return hole_img,mask.convert(\"L\")"
   ]
  },
  {
   "cell_type": "code",
   "execution_count": 11,
   "id": "9faf16bd",
   "metadata": {},
   "outputs": [],
   "source": [
    "def convertToJpeg(im,quality):\n",
    "    with BytesIO() as f:\n",
    "        im.save(f, format='JPEG',quality=quality)\n",
    "        f.seek(0)\n",
    "        return Image.open(f).convert('RGB')"
   ]
  },
  {
   "cell_type": "code",
   "execution_count": 12,
   "id": "2ff4b2c1",
   "metadata": {},
   "outputs": [
    {
     "name": "stdout",
     "output_type": "stream",
     "text": [
      "File 1.jpg not found\n"
     ]
    },
    {
     "ename": "NameError",
     "evalue": "name 'a' is not defined",
     "output_type": "error",
     "traceback": [
      "\u001b[0;31m---------------------------------------------------------------------------\u001b[0m",
      "\u001b[0;31mNameError\u001b[0m                                 Traceback (most recent call last)",
      "\u001b[0;32m/tmp/ipykernel_9601/2840479888.py\u001b[0m in \u001b[0;36m<module>\u001b[0;34m\u001b[0m\n\u001b[1;32m     11\u001b[0m         \u001b[0mprint\u001b[0m\u001b[0;34m(\u001b[0m\u001b[0;34m\"Value Error: \"\u001b[0m \u001b[0;34m+\u001b[0m \u001b[0mstr\u001b[0m\u001b[0;34m(\u001b[0m\u001b[0mi\u001b[0m\u001b[0;34m)\u001b[0m \u001b[0;34m+\u001b[0m \u001b[0;34m\".jpg not found\"\u001b[0m\u001b[0;34m)\u001b[0m\u001b[0;34m\u001b[0m\u001b[0;34m\u001b[0m\u001b[0m\n\u001b[1;32m     12\u001b[0m \u001b[0;34m\u001b[0m\u001b[0m\n\u001b[0;32m---> 13\u001b[0;31m     \u001b[0ma\u001b[0m\u001b[0;34m.\u001b[0m\u001b[0msave\u001b[0m\u001b[0;34m(\u001b[0m\u001b[0;34m\"test_images/\"\u001b[0m \u001b[0;34m+\u001b[0m \u001b[0mstr\u001b[0m\u001b[0;34m(\u001b[0m\u001b[0mi\u001b[0m\u001b[0;34m)\u001b[0m \u001b[0;34m+\u001b[0m \u001b[0;34m\".jpg\"\u001b[0m\u001b[0;34m)\u001b[0m\u001b[0;34m\u001b[0m\u001b[0;34m\u001b[0m\u001b[0m\n\u001b[0m",
      "\u001b[0;31mNameError\u001b[0m: name 'a' is not defined"
     ]
    }
   ],
   "source": [
    "if not os.path.isdir(\"test_images\"):\n",
    "    os.mkdir(\"test_images\")\n",
    "\n",
    "for i in range(1, 44):\n",
    "    try:\n",
    "        a, b = irregular_hole_synthesize(Image.open(\"../images/000001.jpg\"), Image.open(\"../blend_images/\" + str(i) + \".jpg\"))\n",
    "        a = synthesize_low_resolution(a)\n",
    "    except FileNotFoundError:\n",
    "        print(\"File \" + str(i) + \".jpg not found\")\n",
    "    except ValueError:\n",
    "        print(\"Value Error: \" + str(i) + \".jpg not found\")\n",
    "    \n",
    "    a.save(\"test_images/\" + str(i) + \".jpg\")"
   ]
  },
  {
   "cell_type": "code",
   "execution_count": 13,
   "id": "f34c586c",
   "metadata": {},
   "outputs": [
    {
     "name": "stdout",
     "output_type": "stream",
     "text": [
      "File Not Found PNG\n",
      "File Not Found PNG\n",
      "File Not Found PNG\n",
      "File Not Found PNG\n",
      "File Not Found PNG\n",
      "File Not Found\n",
      "File Not Found PNG\n",
      "File Not Found PNG\n",
      "File Not Found PNG\n",
      "File Not Found PNG\n",
      "File Not Found PNG\n",
      "File Not Found PNG\n",
      "File Not Found PNG\n",
      "File Not Found PNG\n",
      "File Not Found PNG\n",
      "File Not Found PNG\n",
      "File Not Found PNG\n",
      "File Not Found PNG\n",
      "File Not Found PNG\n",
      "File Not Found PNG\n",
      "File Not Found PNG\n",
      "File Not Found PNG\n",
      "File Not Found PNG\n",
      "File Not Found PNG\n",
      "File Not Found PNG\n",
      "File Not Found PNG\n",
      "File Not Found PNG\n",
      "File Not Found PNG\n",
      "File Not Found PNG\n",
      "File Not Found PNG\n",
      "File Not Found PNG\n",
      "File Not Found PNG\n",
      "File Not Found PNG\n",
      "File Not Found PNG\n",
      "File Not Found PNG\n",
      "File Not Found PNG\n",
      "File Not Found PNG\n",
      "File Not Found PNG\n"
     ]
    }
   ],
   "source": [
    "blend_images = []\n",
    "for i in range(1, 44):\n",
    "    try:\n",
    "        blend_images.append(Image.open(\"./blend_images/\" + str(i) + \".jpg\"))\n",
    "    except:\n",
    "        print(\"File Not Found\")\n",
    "        \n",
    "    try:\n",
    "        blend_images.append(Image.open(\"./blend_images/\" + str(i) + \".png\"))\n",
    "    except:\n",
    "        print(\"File Not Found PNG\")"
   ]
  },
  {
   "cell_type": "code",
   "execution_count": 20,
   "id": "acd2721f",
   "metadata": {},
   "outputs": [
    {
     "data": {
      "application/vnd.jupyter.widget-view+json": {
       "model_id": "3eb75dca8ee84850a276f73a054f4954",
       "version_major": 2,
       "version_minor": 0
      },
      "text/plain": [
       "  0%|          | 0/964 [00:00<?, ?it/s]"
      ]
     },
     "metadata": {},
     "output_type": "display_data"
    }
   ],
   "source": [
    "for i in tqdm(range(9000, 9964)):\n",
    "    old_image = None\n",
    "    \n",
    "    try:\n",
    "        file_name = f\"{i}\"\n",
    "        file_name = \"0\" * (len(\"000001\") - len(file_name)) + file_name + \".jpg\"\n",
    "        \n",
    "        blend_image_1 = blend_images[np.random.randint(0, len(blend_images))]\n",
    "        blend_image_2 = blend_images[np.random.randint(0, len(blend_images))]\n",
    "        \n",
    "        original_image = Image.open(f\"train/reconstructed_images/{file_name}\")\n",
    "        \n",
    "        old_image, b = irregular_hole_synthesize(original_image, blend_image_1)\n",
    "        old_image, b = irregular_hole_synthesize(old_image, blend_image_2)\n",
    "        old_image = synthesize_low_resolution(old_image)\n",
    "    except FileNotFoundError:\n",
    "        print(f\"File {file_name} not found\")\n",
    "    \n",
    "    old_image.save(\"./train_images/old_images\" + file_name)"
   ]
  }
 ],
 "metadata": {
  "kernelspec": {
   "display_name": "minor",
   "language": "python",
   "name": "minor"
  },
  "language_info": {
   "codemirror_mode": {
    "name": "ipython",
    "version": 3
   },
   "file_extension": ".py",
   "mimetype": "text/x-python",
   "name": "python",
   "nbconvert_exporter": "python",
   "pygments_lexer": "ipython3",
   "version": "3.9.5"
  }
 },
 "nbformat": 4,
 "nbformat_minor": 5
}
