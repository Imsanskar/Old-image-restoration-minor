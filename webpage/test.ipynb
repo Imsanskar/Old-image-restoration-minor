{
 "cells": [
  {
   "cell_type": "code",
   "execution_count": 1,
   "id": "bb750d3f",
   "metadata": {},
   "outputs": [
    {
     "name": "stderr",
     "output_type": "stream",
     "text": [
      "2022-01-24 16:27:31.740846: W tensorflow/stream_executor/platform/default/dso_loader.cc:64] Could not load dynamic library 'libcudart.so.11.0'; dlerror: libcudart.so.11.0: cannot open shared object file: No such file or directory; LD_LIBRARY_PATH: /media/imsanskar/My files/Projects/Minor/env/lib/python3.9/site-packages/cv2/../../lib64:\n",
      "2022-01-24 16:27:31.740881: I tensorflow/stream_executor/cuda/cudart_stub.cc:29] Ignore above cudart dlerror if you do not have a GPU set up on your machine.\n"
     ]
    }
   ],
   "source": [
    "import pix2pix.pix2pix as p2p\n",
    "from PIL import Image\n",
    "import torchvision.transforms as transforms\n",
    "import torch\n",
    "from pix2pix.data.image_manipulation import *\n",
    "from pix2pix.data.dataloader import *\n",
    "import SRGAN.SRGAN_pretrained as SR_GAN\n",
    "from ISR.models import RDN"
   ]
  },
  {
   "cell_type": "code",
   "execution_count": 3,
   "id": "b46e6db0",
   "metadata": {},
   "outputs": [
    {
     "data": {
      "text/plain": [
       "<All keys matched successfully>"
      ]
     },
     "execution_count": 3,
     "metadata": {},
     "output_type": "execute_result"
    }
   ],
   "source": [
    "generator = p2p.GeneratorUNet()\n",
    "device = 'cuda' if torch.cuda.is_available() else 'cpu'\n",
    "generator.load_state_dict(torch.load(\"pix2pix/saved_models/generator.pth\", map_location = device))"
   ]
  },
  {
   "cell_type": "code",
   "execution_count": null,
   "id": "c18ede2d",
   "metadata": {},
   "outputs": [
    {
     "name": "stdout",
     "output_type": "stream",
     "text": [
      "Downloading data from https://public-asai-dl-models.s3.eu-central-1.amazonaws.com/ISR/rdn-C6-D20-G64-G064-x2/PSNR-driven/rdn-C6-D20-G64-G064-x2_PSNR_epoch086.hdf5\n",
      "30588928/66071288 [============>.................] - ETA: 22:01"
     ]
    }
   ],
   "source": [
    "generator_srgan = SR_GAN.GeneratorSRGAN().to(device)\n",
    "generator_srgan.load_state_dict(torch.load(\"./SRGAN/saved_models/srresnet.pth\", map_location=device))\n",
    "generator_srgan.eval()\n",
    "rdn = RDN(weights='psnr-large')"
   ]
  },
  {
   "cell_type": "code",
   "execution_count": 14,
   "id": "277e957e",
   "metadata": {},
   "outputs": [],
   "source": [
    "image = Image.open(\"./pix2pix/data/train/old_images/002000.jpg\")\n",
    "image_width = 256\n",
    "image_height = 256\n",
    "transform = transforms.Compose([\n",
    "    transforms.ToTensor(), # transform to tensor\n",
    "    transforms.Resize((image_width, image_height)) # Resize the image to constant size\n",
    "])\n",
    "\n",
    "im = transform(image)\n",
    "output = np_to_pil(generator(im.unsqueeze(0))[0].detach().cpu().numpy())\n",
    "transform = transforms.Compose([\n",
    "    transforms.ToTensor(),\n",
    "#     transforms.Resize((256, 256), Image.BICUBIC),\n",
    "])\n",
    "input_image = transform(output).to(device)\n",
    "output_image = np_to_pil(generator_srgan(input_image.unsqueeze(0))[0].detach().cpu().numpy())\n",
    "output_image = rdn.predict(np.array(image))"
   ]
  },
  {
   "cell_type": "code",
   "execution_count": null,
   "id": "0976f7e8",
   "metadata": {},
   "outputs": [],
   "source": [
    "Image.fromarray(output_image)"
   ]
  }
 ],
 "metadata": {
  "kernelspec": {
   "display_name": "minor",
   "language": "python",
   "name": "minor"
  },
  "language_info": {
   "codemirror_mode": {
    "name": "ipython",
    "version": 3
   },
   "file_extension": ".py",
   "mimetype": "text/x-python",
   "name": "python",
   "nbconvert_exporter": "python",
   "pygments_lexer": "ipython3",
   "version": "3.9.5"
  }
 },
 "nbformat": 4,
 "nbformat_minor": 5
}
